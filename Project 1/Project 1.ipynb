{
 "cells": [
  {
   "cell_type": "markdown",
   "metadata": {
    "id": "Cb_IWF6UQRGk"
   },
   "source": [
    "# Coursework 1 - Supervised learning\n",
    "\n",
    "**Replace CID in the file name with your CID**"
   ]
  },
  {
   "cell_type": "markdown",
   "metadata": {
    "id": "yTeLZnrzE0Wy"
   },
   "source": [
    "# Outline\n",
    "\n",
    "\n",
    "- [Task 1](#task-1): Regression <a name=\"index-task-1\"></a>\n",
    "  - [(1.1)](#task-11) Random Forest <a name=\"index-task-11\"></a>\n",
    "    - [(1.1.1)](#task-111) <a name=\"index-task-111\"></a>\n",
    "    - [(1.1.2)](#task-112) <a name=\"index-task-112\"></a>\n",
    "    - [(1.1.3)](#task-113) <a name=\"index-task-113\"></a>\n",
    "  - [(1.2)](#task-12) Multi-layer Perceptron <a name=\"index-task-12\"></a>\n",
    "    - [(1.2.1)](#task-121) <a name=\"index-task-121\"></a>\n",
    "    - [(1.2.2)](#task-122) <a name=\"index-task-122\"></a>\n",
    "    - [(1.2.3)](#task-123) <a name=\"index-task-123\"></a>\n",
    "- [Task 2](#task-2): Classification <a name=\"index-task-2\"></a>\n",
    "  - [(2.1)](#task-21) k-Nearest Neighbours <a name=\"index-task-21\"></a>\n",
    "    - [(2.1.1)](#task-211)  <a name=\"index-task-211\"></a>\n",
    "    - [(2.1.2)](#task-212) <a name=\"index-task-212\"></a>\n",
    "    - [(2.1.3)](#task-213) <a name=\"index-task-213\"></a>\n",
    "  - [(2.2)](#task-22) Logistic regression vs kernel logistic regression <a name=\"index-task-22\"></a>\n",
    "    - [(2.2.1)](#task-221) <a name=\"index-task-221\"></a>\n",
    "    - [(2.2.2)](#task-222) <a name=\"index-task-222\"></a>\n",
    "    - [(2.2.3)](#task-223) <a name=\"index-task-223\"></a>"
   ]
  },
  {
   "cell_type": "markdown",
   "metadata": {
    "id": "V4LmL6R9N1B-"
   },
   "source": [
    "\n",
    "\n",
    "---\n",
    "\n"
   ]
  },
  {
   "cell_type": "code",
   "execution_count": 1,
   "metadata": {},
   "outputs": [],
   "source": [
    "import numpy as np\n",
    "import pandas as pd\n",
    "import matplotlib.pyplot as plt\n",
    "from tqdm.notebook import tqdm\n",
    "import seaborn as sns\n",
    "\n",
    "# Initial global configuration for matplotlib\n",
    "SMALL_SIZE = 12\n",
    "MEDIUM_SIZE = 16\n",
    "BIGGER_SIZE = 20\n",
    "\n",
    "plt.rc('font', size=SMALL_SIZE)          # controls default text sizes\n",
    "plt.rc('axes', titlesize=SMALL_SIZE)     # fontsize of the axes title\n",
    "plt.rc('axes', labelsize=MEDIUM_SIZE)    # fontsize of the x and y labels\n",
    "plt.rc('xtick', labelsize=SMALL_SIZE)    # fontsize of the tick labels\n",
    "plt.rc('ytick', labelsize=SMALL_SIZE)    # fontsize of the tick labels\n",
    "plt.rc('legend', fontsize=SMALL_SIZE)    # legend fontsize\n",
    "plt.rc('figure', titlesize=BIGGER_SIZE)  # fontsize of the figure title"
   ]
  },
  {
   "cell_type": "markdown",
   "metadata": {},
   "source": [
    "We define a function to standardise the train and test data."
   ]
  },
  {
   "cell_type": "code",
   "execution_count": 2,
   "metadata": {},
   "outputs": [],
   "source": [
    "def standardise(X, X_train_=None):\n",
    "    \"\"\"\n",
    "    Standardise features.\n",
    "    Args:\n",
    "        X (np.array): Feature matrix.\n",
    "        X_train_ (np.array): An optional feature matrix to compute the statistics\n",
    "            from before applying it to X. If None, just use X to compute the statistics.\n",
    "    Returns:\n",
    "        X_std (np.array): Standardised feature matrix\n",
    "    \"\"\"\n",
    "    \n",
    "    if X_train_ is None:\n",
    "        X_train_ = X\n",
    "\n",
    "    mu = np.mean(X_train_, axis=0)\n",
    "    sigma = np.std(X_train_, axis=0)\n",
    "    X_std = (X - mu) / sigma\n",
    "    return X_std"
   ]
  },
  {
   "cell_type": "markdown",
   "metadata": {
    "id": "0_QE32lOMff_"
   },
   "source": [
    "<a name=\"task-1\"></a>\n",
    "\n",
    "# (1) Task 1: Regression [(index)](#index-task-1)"
   ]
  },
  {
   "cell_type": "code",
   "execution_count": 3,
   "metadata": {},
   "outputs": [
    {
     "data": {
      "text/html": [
       "<div>\n",
       "<style scoped>\n",
       "    .dataframe tbody tr th:only-of-type {\n",
       "        vertical-align: middle;\n",
       "    }\n",
       "\n",
       "    .dataframe tbody tr th {\n",
       "        vertical-align: top;\n",
       "    }\n",
       "\n",
       "    .dataframe thead th {\n",
       "        text-align: right;\n",
       "    }\n",
       "</style>\n",
       "<table border=\"1\" class=\"dataframe\">\n",
       "  <thead>\n",
       "    <tr style=\"text-align: right;\">\n",
       "      <th></th>\n",
       "      <th>Surface_Area ($m^2/g$)</th>\n",
       "      <th>Defect_Ratio</th>\n",
       "      <th>Doped_Nitrogen_Percentage</th>\n",
       "      <th>Doped_Oxygen_Percentage</th>\n",
       "      <th>Doped_Sulfur_Percentage</th>\n",
       "      <th>Current_Density ($A/g$)</th>\n",
       "      <th>Capacitance ($\\mu F / cm^2$)</th>\n",
       "      <th>Electrolyte_Concentration $[M]$</th>\n",
       "      <th>H9_Factor ($mL/g$)</th>\n",
       "      <th>T5_Factor ($mL/g$)</th>\n",
       "      <th>Doped_Zinc_Percentage</th>\n",
       "      <th>Doped_Flourine_Percentage</th>\n",
       "      <th>Doped_Carbon_Percentage</th>\n",
       "    </tr>\n",
       "  </thead>\n",
       "  <tbody>\n",
       "    <tr>\n",
       "      <th>0</th>\n",
       "      <td>96.78</td>\n",
       "      <td>1.30</td>\n",
       "      <td>0.933333</td>\n",
       "      <td>19.690000</td>\n",
       "      <td>0.843333</td>\n",
       "      <td>6.0</td>\n",
       "      <td>173.0</td>\n",
       "      <td>6.0</td>\n",
       "      <td>11.188890</td>\n",
       "      <td>33.753753</td>\n",
       "      <td>80.542095</td>\n",
       "      <td>46.933213</td>\n",
       "      <td>50.199105</td>\n",
       "    </tr>\n",
       "    <tr>\n",
       "      <th>1</th>\n",
       "      <td>531.90</td>\n",
       "      <td>1.28</td>\n",
       "      <td>7.700000</td>\n",
       "      <td>13.700000</td>\n",
       "      <td>8.300000</td>\n",
       "      <td>5.0</td>\n",
       "      <td>298.5</td>\n",
       "      <td>6.0</td>\n",
       "      <td>54.206536</td>\n",
       "      <td>25.721984</td>\n",
       "      <td>36.506123</td>\n",
       "      <td>44.773787</td>\n",
       "      <td>19.238604</td>\n",
       "    </tr>\n",
       "    <tr>\n",
       "      <th>2</th>\n",
       "      <td>438.70</td>\n",
       "      <td>1.27</td>\n",
       "      <td>5.030000</td>\n",
       "      <td>4.760000</td>\n",
       "      <td>3.710000</td>\n",
       "      <td>2.0</td>\n",
       "      <td>404.0</td>\n",
       "      <td>2.0</td>\n",
       "      <td>46.425494</td>\n",
       "      <td>11.422661</td>\n",
       "      <td>45.927300</td>\n",
       "      <td>59.097544</td>\n",
       "      <td>67.537988</td>\n",
       "    </tr>\n",
       "    <tr>\n",
       "      <th>3</th>\n",
       "      <td>149.32</td>\n",
       "      <td>1.02</td>\n",
       "      <td>1.240000</td>\n",
       "      <td>15.450000</td>\n",
       "      <td>3.030000</td>\n",
       "      <td>0.3</td>\n",
       "      <td>299.7</td>\n",
       "      <td>6.0</td>\n",
       "      <td>16.322920</td>\n",
       "      <td>9.179250</td>\n",
       "      <td>69.495872</td>\n",
       "      <td>35.124313</td>\n",
       "      <td>62.494312</td>\n",
       "    </tr>\n",
       "    <tr>\n",
       "      <th>4</th>\n",
       "      <td>1484.00</td>\n",
       "      <td>0.84</td>\n",
       "      <td>5.740000</td>\n",
       "      <td>6.993333</td>\n",
       "      <td>0.386667</td>\n",
       "      <td>5.0</td>\n",
       "      <td>250.0</td>\n",
       "      <td>1.0</td>\n",
       "      <td>152.864772</td>\n",
       "      <td>29.174519</td>\n",
       "      <td>61.365160</td>\n",
       "      <td>50.942724</td>\n",
       "      <td>77.980072</td>\n",
       "    </tr>\n",
       "  </tbody>\n",
       "</table>\n",
       "</div>"
      ],
      "text/plain": [
       "   Surface_Area ($m^2/g$)  Defect_Ratio  Doped_Nitrogen_Percentage  \\\n",
       "0                   96.78          1.30                   0.933333   \n",
       "1                  531.90          1.28                   7.700000   \n",
       "2                  438.70          1.27                   5.030000   \n",
       "3                  149.32          1.02                   1.240000   \n",
       "4                 1484.00          0.84                   5.740000   \n",
       "\n",
       "   Doped_Oxygen_Percentage  Doped_Sulfur_Percentage  Current_Density ($A/g$)  \\\n",
       "0                19.690000                 0.843333                      6.0   \n",
       "1                13.700000                 8.300000                      5.0   \n",
       "2                 4.760000                 3.710000                      2.0   \n",
       "3                15.450000                 3.030000                      0.3   \n",
       "4                 6.993333                 0.386667                      5.0   \n",
       "\n",
       "   Capacitance ($\\mu F / cm^2$)  Electrolyte_Concentration $[M]$  \\\n",
       "0                         173.0                              6.0   \n",
       "1                         298.5                              6.0   \n",
       "2                         404.0                              2.0   \n",
       "3                         299.7                              6.0   \n",
       "4                         250.0                              1.0   \n",
       "\n",
       "   H9_Factor ($mL/g$)  T5_Factor ($mL/g$)  Doped_Zinc_Percentage  \\\n",
       "0           11.188890           33.753753              80.542095   \n",
       "1           54.206536           25.721984              36.506123   \n",
       "2           46.425494           11.422661              45.927300   \n",
       "3           16.322920            9.179250              69.495872   \n",
       "4          152.864772           29.174519              61.365160   \n",
       "\n",
       "   Doped_Flourine_Percentage  Doped_Carbon_Percentage  \n",
       "0                  46.933213                50.199105  \n",
       "1                  44.773787                19.238604  \n",
       "2                  59.097544                67.537988  \n",
       "3                  35.124313                62.494312  \n",
       "4                  50.942724                77.980072  "
      ]
     },
     "execution_count": 3,
     "metadata": {},
     "output_type": "execute_result"
    }
   ],
   "source": [
    "data_train_T1 = pd.read_csv('nanoelectrodes_capacitance_samples.csv')\n",
    "data_test_T1 = pd.read_csv('nanoelectrodes_capacitance_test.csv')\n",
    "\n",
    "data_train_T1.head()\n",
    "#sns.pairplot(data_train_T1)"
   ]
  },
  {
   "cell_type": "markdown",
   "metadata": {},
   "source": [
    "We define (X_train, y_train) and (X_test, y_test) to learn and evaluate our model respectively, from data_train and data_test:"
   ]
  },
  {
   "cell_type": "code",
   "execution_count": 185,
   "metadata": {},
   "outputs": [],
   "source": [
    "# We seperate the training features into X_train (by extracting all columns except 'Capacitance')\n",
    "# and y_train which corresponds to the column 'Capacitance' (7th column): our targets.\n",
    "X_train = data_train_T1.drop(data_train_T1.columns[6], axis=1)\n",
    "y_train = data_train_T1[data_train_T1.columns[6]] #We keep the column 'Capacitance' of the data as our targets\n",
    "\n",
    "# Similarly for the test set\n",
    "X_test = data_test_T1.drop(data_test_T1.columns[6], axis=1)\n",
    "y_test = data_test_T1[data_test_T1.columns[6]] #We keep the column 'Capacitance' of the data as our targets"
   ]
  },
  {
   "cell_type": "markdown",
   "metadata": {
    "id": "DLl66QsJMfzc"
   },
   "source": [
    "<a name=\"task-11\"></a>\n",
    "\n",
    "## (1.1) Random Forest [(index)](#index-task-11)"
   ]
  },
  {
   "cell_type": "code",
   "execution_count": 132,
   "metadata": {},
   "outputs": [],
   "source": [
    "# We define a dictionnary indicating whether the column index maps is a categorial feature or not (numerical);\n",
    "# in our case all features are numerical\n",
    "columns_dict = {index: False for index in range(X_train.shape[1])}"
   ]
  },
  {
   "cell_type": "markdown",
   "metadata": {
    "id": "T47skSuUMf8M"
   },
   "source": [
    "<a name=\"task-111\"></a>\n",
    "\n",
    "### (1.1.1) [(index)](#index-task-111)"
   ]
  },
  {
   "cell_type": "markdown",
   "metadata": {},
   "source": [
    "We will build up our decision tree algorithm in the pythonic way by calling functions we define first in functions we define later."
   ]
  },
  {
   "cell_type": "markdown",
   "metadata": {},
   "source": [
    "We implement the loss function defined in the lecture notes *Chapter 6. p.57* in the case of a regression task."
   ]
  },
  {
   "cell_type": "code",
   "execution_count": 6,
   "metadata": {},
   "outputs": [],
   "source": [
    "def loss(y1, y2):\n",
    "    mean_R1 = np.mean(y1)\n",
    "    mean_R2 = np.mean(y2)\n",
    "    return (np.sum((y1 - mean_R1)**2) + np.sum((y2 - mean_R2)**2))"
   ]
  },
  {
   "cell_type": "markdown",
   "metadata": {},
   "source": [
    "Next, we define a function to split the data samples based on a feature index (column) and a value (different case if the feature is categorical or numerical)."
   ]
  },
  {
   "cell_type": "code",
   "execution_count": 7,
   "metadata": {},
   "outputs": [],
   "source": [
    "def split_samples(X, y, column, value, categorical):\n",
    "    \"\"\"\n",
    "    Return the split of data whose column-th feature:\n",
    "      1. equals value, in case 'column' is categorical, or\n",
    "      2. less than value, in case 'column' is not categorical (i.e. numerical)\n",
    "    Args:\n",
    "        X (np.ndarray): training features, of shape (N, p).\n",
    "        y (np.ndarray): vector of training Capacitances, of shape (N,).\n",
    "        column (index): the column of the feature for splitting.\n",
    "        value (float): splitting threshold  the samples.\n",
    "        categorical (bool): boolean value indicating whether column is a categorical variable or numerical.\n",
    "    Returns:\n",
    "        tuple(np.array, np.array): tuple of subsets of X splitted based on column-th value.\n",
    "        tuple(np.array, np.array): tuple of subsets of y splitted based on column-th value.\n",
    "    \"\"\"\n",
    "    \n",
    "    if categorical:\n",
    "        left_mask = (X[:,column] == value)\n",
    "    else:\n",
    "        left_mask = (X[:,column] < value)\n",
    "    \n",
    "    # Using the binary masks `left_mask`, we split X and y.\n",
    "    X_l, y_l = X[left_mask,:], y[left_mask]\n",
    "    X_r, y_r = X[~left_mask,:], y[~left_mask]\n",
    "    \n",
    "    return (X_l, y_l), (X_r, y_r)"
   ]
  },
  {
   "cell_type": "markdown",
   "metadata": {},
   "source": [
    "For a given feature index, we need to estimate the best value $s$ to use as threshold (for numerical variables) or predicate (for categorical variables); this value $s$ must minimize the loss function."
   ]
  },
  {
   "cell_type": "code",
   "execution_count": 8,
   "metadata": {},
   "outputs": [],
   "source": [
    "def threshold_split(X, y, column, categorical):\n",
    "    \"\"\"\n",
    "    Calculate the loss based on 'column' with the split 's' that minimizes the loss.\n",
    "    Args:\n",
    "        X (np.ndarray): Training features, of shape (N, p).\n",
    "        y (np.ndarray): Vector of training Capacitances, of shape (N,).\n",
    "        column (index): The column of the feature for calculating.\n",
    "        categorical (bool): boolean value indicating whether column is a categorical variable or numerical.\n",
    "    Return:\n",
    "        loss_val (float): Resulted loss.\n",
    "        threshold (float): The corresponding value 's' used in splitting.\n",
    "    \"\"\"\n",
    "    \n",
    "    unique_vals = np.unique(X[:, column])\n",
    "    \n",
    "    assert len(unique_vals) > 1, f\"There must be more than one distinct feature value. Given: {unique_vals}.\"\n",
    "    \n",
    "    loss_val, threshold = np.inf, None\n",
    "    \n",
    "    for value in unique_vals:\n",
    "        (X_l, y_l), (X_r, y_r) = split_samples(X, y, column, value, categorical)\n",
    "        \n",
    "        # If one of the two sides is empty, skip this split.\n",
    "        if len(y_l) == 0 or len(y_r) == 0:\n",
    "            continue\n",
    "        \n",
    "        current_loss = loss(y_l, y_r)\n",
    "        \n",
    "        if current_loss < loss_val:\n",
    "            loss_val, threshold = current_loss, value\n",
    "    \n",
    "    return loss_val, threshold"
   ]
  },
  {
   "cell_type": "markdown",
   "metadata": {},
   "source": [
    "It's now time to choose the best feature to split by calling the function 'threshold_split()' for each feature."
   ]
  },
  {
   "cell_type": "code",
   "execution_count": 9,
   "metadata": {},
   "outputs": [],
   "source": [
    "def feature_split(X, y, columns_dict):\n",
    "    \"\"\"\n",
    "    Choose the best feature to split according to criterion.\n",
    "    Args:\n",
    "        X (np.ndarray): Training features, of shape (N, p).\n",
    "        y (np.ndarray): Vector of training Capacitances, of shape (N,).\n",
    "        columns_dict: Dictionary mapping column indices to whether the column is categorical or numerical variable.\n",
    "    Returns:\n",
    "        split_column (index): The best feature index.\n",
    "        split_val (float): Value 's' used in splitting.\n",
    "        If the feature index is None, then no valid split for the current node.\n",
    "    \"\"\"\n",
    "    \n",
    "    # Initialize 'split_column' to None, so if None returned this means there is no valid split at the current node.\n",
    "    min_loss_val = np.inf\n",
    "    split_column = None\n",
    "    split_val = np.nan\n",
    "    \n",
    "    for column, categorical in columns_dict.items():\n",
    "        # Skip column if samples are not seperable by that column.\n",
    "        if len(np.unique(X[:,column])) < 2:\n",
    "            continue\n",
    "        \n",
    "        # Search for the best splitting value 's' for the given column.\n",
    "        current_loss_val, threshold = threshold_split(X, y, column, categorical)\n",
    "        \n",
    "        if current_loss_val < min_loss_val:\n",
    "            min_loss_val = current_loss_val\n",
    "            split_column = column\n",
    "            split_val = threshold\n",
    "    \n",
    "    return split_column, split_val"
   ]
  },
  {
   "cell_type": "markdown",
   "metadata": {},
   "source": [
    "Finally, we can recursively build the decision tree by using `feature_split()` to find the best $(j,s)$ to split the 'X', and `split_samples()` to get sub-trees."
   ]
  },
  {
   "cell_type": "code",
   "execution_count": 10,
   "metadata": {},
   "outputs": [],
   "source": [
    "def build_tree(X, y, columns_dict, feature_names, depth, max_depth=10, min_samples_leaf=10):\n",
    "    \"\"\"\n",
    "    Build the decision tree according to the data.\n",
    "    Args:\n",
    "        X (np.ndarray): Training features, of shape (N, p).\n",
    "        y (np.ndarray): Vector of training Capacitances, of shape (N,).\n",
    "        columns_dict: Dictionary mapping column indices to whether the column is categorical or numerical variable.\n",
    "        feature_names (list): Record the name of features in X in the original dataset.\n",
    "        depth (int): Current depth for this node.\n",
    "        max_depth (int).\n",
    "        min_samples_leaf (int).\n",
    "    Return:\n",
    "        (dict): a dict denoting the decision tree (binary-tree). Each node has seven attributes:\n",
    "          1. 'feature_name': The column name of the split.\n",
    "          2. 'feature_index': The column index of the split. \n",
    "          3. 'value': The value used for the split.\n",
    "          4. 'categorical': indicator for categorical/numerical variables.\n",
    "          5. 'region_mean': mean of the Capacitances in region.\n",
    "          6. 'left': The left sub-tree with the same structure.\n",
    "          7. 'right' The right sub-tree with the same structure.\n",
    "    \"\"\"\n",
    "    \n",
    "    # Include a clause for the cases where (i) all Capacitances are the same, (ii) depth exceed (iii) X is too small\n",
    "    if len(np.unique(y))==1 or depth>=max_depth or len(X)<=min_samples_leaf:\n",
    "        return {'region_mean': np.mean(y)}\n",
    "    \n",
    "    split_index, split_val = feature_split(X, y, columns_dict)\n",
    "    \n",
    "    # If no valid split at this node, compute mean of the Capacitances in current region.\n",
    "    if split_index is None:\n",
    "        return {'region_mean': np.mean(y)}\n",
    "    \n",
    "    categorical = columns_dict[split_index]\n",
    "    \n",
    "    # Split samples (X, y) given column, split-value, and categorical flag.\n",
    "    (X_l, y_l), (X_r, y_r) = split_samples(X, y, split_index, split_val, categorical)\n",
    "    return {\n",
    "        'feature_name': feature_names[split_index],\n",
    "        'feature_index': split_index,\n",
    "        'threshold': split_val,\n",
    "        'categorical': categorical,\n",
    "        'region_mean': None,\n",
    "        'left': build_tree(X_l, y_l, columns_dict, feature_names, depth + 1, max_depth, min_samples_leaf),\n",
    "        'right': build_tree(X_r, y_r, columns_dict, feature_names, depth + 1, max_depth, min_samples_leaf)\n",
    "    }"
   ]
  },
  {
   "cell_type": "markdown",
   "metadata": {},
   "source": [
    "We define a wrapper function that we call `train()` to call this `build_tree()` function with the appropriate arguments."
   ]
  },
  {
   "cell_type": "code",
   "execution_count": 11,
   "metadata": {},
   "outputs": [],
   "source": [
    "def train(X, y, columns_dict):\n",
    "    \"\"\"\n",
    "    Train the decision tree.\n",
    "    Args:\n",
    "        X (pd.Dataframe): Training features, of shape (N, p). Each X[i] is a training sample.\n",
    "        y (pd.Series): Vector of training values of Capacitance, of shape (N,). y[i] is the Capacitance for X[i].\n",
    "        columns_dict: Dictionary mapping column indices to whether the column is categorical or numerical variable.\n",
    "    Return:\n",
    "        Decision tree.\n",
    "    \"\"\"\n",
    "    \n",
    "    feature_names = X.columns.tolist()\n",
    "    return build_tree(X.to_numpy(), y.to_numpy(), columns_dict, feature_names, depth=1)"
   ]
  },
  {
   "cell_type": "code",
   "execution_count": 12,
   "metadata": {},
   "outputs": [],
   "source": [
    "# Fit the decision tree with training data\n",
    "tree = train(X_train, y_train, columns_dict)"
   ]
  },
  {
   "cell_type": "markdown",
   "metadata": {},
   "source": [
    "Now, we want to use this fitted decision tree to make predictions for our test set 'X_test'. To do so, we first define a function `algorithm_tree()` that takes each single data point 'x' as an argument. We will write a wrapper function `predict()` that calls this `algorithm_tree()` function. In the following implementation, we will recursively traverse a given decision tree basen on the current feature vector that we have."
   ]
  },
  {
   "cell_type": "code",
   "execution_count": 13,
   "metadata": {},
   "outputs": [],
   "source": [
    "def algorithm_tree(tree, x):\n",
    "    \"\"\"\n",
    "    Estimate the Capacitance of a single sample with the fitted decision tree.\n",
    "    Args:\n",
    "        tree: Decision tree.\n",
    "        x (pd.Dataframe): A single sample features, of shape (D,).\n",
    "    Return:\n",
    "        (float): Estimated Capacitance of x.\n",
    "    \"\"\"\n",
    "    \n",
    "    if tree['region_mean'] is not None:\n",
    "        return tree['region_mean']\n",
    "    \n",
    "    elif tree['categorical']:\n",
    "        if x[tree['feature_index']] == tree['threshold']:\n",
    "            return algorithm_tree(tree['left'], x)\n",
    "        else:\n",
    "            return algorithm_tree(tree['right'], x)\n",
    "        \n",
    "    else:\n",
    "        if x[tree['feature_index']] < tree['threshold']:\n",
    "            return algorithm_tree(tree['left'], x)\n",
    "        else:\n",
    "            return algorithm_tree(tree['right'], x)"
   ]
  },
  {
   "cell_type": "code",
   "execution_count": 179,
   "metadata": {},
   "outputs": [],
   "source": [
    "def predict(tree, X):\n",
    "    \"\"\"\n",
    "    Estimate the Capacitances for X with the fitted decision tree.\n",
    "    Args:\n",
    "        tree: Decision tree.\n",
    "        X (pd.Dataframe): Testing sample features, of shape (N, p).\n",
    "    Returns:\n",
    "        (np.array): Estimated Capacitances of X, of shape (N,).\n",
    "    \"\"\"\n",
    "    \n",
    "    if len(X.shape) == 1:\n",
    "        return algorithm_tree(tree, X)\n",
    "    else:\n",
    "        return np.array([algorithm_tree(tree, x) for x in X])"
   ]
  },
  {
   "cell_type": "markdown",
   "metadata": {},
   "source": [
    "To evaluate how well the tree can generalise to unseen data in 'X_test', we define a function that computes the MSE and $R^2$ scores."
   ]
  },
  {
   "cell_type": "code",
   "execution_count": 15,
   "metadata": {},
   "outputs": [],
   "source": [
    "def tree_score(tree, X_test, y_test):\n",
    "    y_pred = predict(tree, X_test)\n",
    "    \n",
    "    #MSE\n",
    "    mse = np.mean((y_pred - y_test)**2)\n",
    "    \n",
    "    #R2 score\n",
    "    numerator = np.sum((y_test - y_pred)**2)\n",
    "    y_avg = np.mean(y_test)\n",
    "    denominator = np.sum((y_test - y_avg)**2)\n",
    "    r2_score = 1 - numerator/denominator\n",
    "    \n",
    "    return mse, r2_score"
   ]
  },
  {
   "cell_type": "code",
   "execution_count": 16,
   "metadata": {},
   "outputs": [
    {
     "name": "stdout",
     "output_type": "stream",
     "text": [
      "DT Train score (MSE, R^2): (1654.4051506951573, 0.7503640060081044)\n",
      "DT Test score (MSE, R^2): (3369.5671069811706, 0.4896216113769649)\n"
     ]
    }
   ],
   "source": [
    "print('DT Train score (MSE, R^2):', tree_score(tree, X_train.to_numpy(), y_train.to_numpy()))\n",
    "print('DT Test score (MSE, R^2):', tree_score(tree, X_test.to_numpy(), y_test.to_numpy()))"
   ]
  },
  {
   "cell_type": "markdown",
   "metadata": {},
   "source": [
    "**Analysis:** The decision tree model performs pretty well on the train set with a MSE of $1654$ and a $R^2$ score of $0.75$. However, it does not seem to generalise well to unseen data with a MSE score $3370$ and a not optimal $R^2$ score of $0.49$."
   ]
  },
  {
   "cell_type": "markdown",
   "metadata": {
    "id": "wx4c9z5pMgDR"
   },
   "source": [
    "<a name=\"task-112\"></a>\n",
    "\n",
    "### (1.1.2) [(index)](#index-task-112)"
   ]
  },
  {
   "cell_type": "markdown",
   "metadata": {},
   "source": [
    "We now need to sample 'n_features' from the columns at each split, before we scan for the optimal splitting column. It is required to make adapted versions of `feature_split()` and `build_tree()`."
   ]
  },
  {
   "cell_type": "code",
   "execution_count": 17,
   "metadata": {},
   "outputs": [],
   "source": [
    "def feature_split_rf(n_features, X, y, columns_dict):\n",
    "    \"\"\"\n",
    "    Choose the best feature among n_features to split according to criterion.\n",
    "    Args:\n",
    "        n_features (int): Number of features to sample from the columns at each split.\n",
    "        X (np.ndarray): Training features, of shape (N, p).\n",
    "        y (np.ndarray): Vector of training Capacitances, of shape (N,).\n",
    "        columns_dict: Dictionary mapping column indices to whether the column is categorical or numerical variable.\n",
    "    Returns:\n",
    "        split_column (index): The best feature index.\n",
    "        split_val (float): Value 's' used in splitting.\n",
    "        If the feature index is None, then no valid split for the current node.\n",
    "    \"\"\"\n",
    "    \n",
    "    # Sampling step.\n",
    "    columns = np.random.choice(list(columns_dict.keys()), n_features, replace=False)\n",
    "    columns_dict = {c: columns_dict[c] for c in columns}\n",
    "    \n",
    "    # Initialize 'split_column' to None, so if None returned this means there is no valid split at the current node.\n",
    "    min_loss_val = np.inf\n",
    "    split_column = None\n",
    "    split_val = np.nan\n",
    "    \n",
    "    for column, categorical in columns_dict.items():\n",
    "        # Skip column if samples are not seperable by that column.\n",
    "        if len(np.unique(X[:,column])) < 2:\n",
    "            continue\n",
    "        \n",
    "        # Search for the best splitting value for the given column.\n",
    "        current_loss_val, threshold = threshold_split(X, y, column, categorical)\n",
    "        \n",
    "        if current_loss_val < min_loss_val:\n",
    "            min_loss_val = current_loss_val\n",
    "            split_column = column\n",
    "            split_val = threshold\n",
    "    \n",
    "    return split_column, split_val"
   ]
  },
  {
   "cell_type": "code",
   "execution_count": 18,
   "metadata": {},
   "outputs": [],
   "source": [
    "def build_tree_rf(n_features, X, y, columns_dict, feature_names, depth, max_depth=10, min_samples_leaf=10, oob_indices=None):\n",
    "    \"\"\"\n",
    "    Build the random forest according to the data.\n",
    "    Args:\n",
    "        n_features (int): Number of features to sample from the columns at each split.\n",
    "        X (np.ndarray): Training features, of shape (N, p).\n",
    "        y (np.ndarray): Vector of training Capacitances, of shape (N,).\n",
    "        columns_dict: Dictionary mapping column indices to whether the column is categorical or numerical variable.\n",
    "        feature_names (list): Record the name of features in X in the original dataset.\n",
    "        depth (int): Current depth for this node.\n",
    "        max_depth (int).\n",
    "        min_samples_leaf (int).\n",
    "    Return:\n",
    "        (dict): a dict denoting the decision tree (binary-tree). Each node has seven attributes:\n",
    "          1. 'feature_name': The column name of the split.\n",
    "          2. 'feature_index': The column index of the split.\n",
    "          3. 'value': The value used for the split.\n",
    "          4. 'categorical': indicator for categorical/numerical variables.\n",
    "          5. 'oob_indices': out-of-bag indices sample.\n",
    "          6. 'region_mean': mean of the Capacitances in region.\n",
    "          7. 'left': The left sub-tree with the same structure.\n",
    "          8. 'right' The right sub-tree with the same structure.\n",
    "    \"\"\"\n",
    "    \n",
    "    # Include a clause for the cases where (i) all Capacitances are the same, (ii) depth exceed (iii) X is too small\n",
    "    if len(np.unique(y))==1 or depth>=max_depth or len(X)<=min_samples_leaf:\n",
    "        return {'region_mean': np.mean(y)}\n",
    "    \n",
    "    split_index, split_val = feature_split_rf(n_features, X, y, columns_dict)\n",
    "    \n",
    "    # If no valid split at this node, compute mean of the Capacitances in current region.\n",
    "    if split_index is None:\n",
    "        return {'region_mean': np.mean(y)}\n",
    "    \n",
    "    categorical = columns_dict[split_index]\n",
    "    \n",
    "    # Split samples (X, y) given column, split-value, and categorical flag.\n",
    "    (X_l, y_l), (X_r, y_r) = split_samples(X, y, split_index, split_val, categorical)\n",
    "    return {\n",
    "        'feature_name': feature_names[split_index],\n",
    "        'feature_index': split_index,\n",
    "        'threshold': split_val,\n",
    "        'categorical': categorical,\n",
    "        'oob_indices': oob_indices,\n",
    "        'region_mean': None,\n",
    "        'left': build_tree_rf(n_features, X_l, y_l, columns_dict, feature_names, depth + 1, max_depth, min_samples_leaf),\n",
    "        'right': build_tree_rf(n_features, X_r, y_r, columns_dict, feature_names, depth + 1, max_depth, min_samples_leaf)\n",
    "    }"
   ]
  },
  {
   "cell_type": "markdown",
   "metadata": {},
   "source": [
    "We write the training function `train_rf()` to construct multiple decision trees, each operating on a subset of samples (with replacement)."
   ]
  },
  {
   "cell_type": "code",
   "execution_count": 19,
   "metadata": {},
   "outputs": [],
   "source": [
    "def train_rf(B, n_features, X, y, columns_dict, max_depth=10, min_samples_leaf=10):\n",
    "    \"\"\"\n",
    "    Train the random forest.\n",
    "    Args:\n",
    "        B (int): Number of trees.\n",
    "        n_features (int): Number of features to sample from the columns at each split.\n",
    "        X (pd.Dataframe): Training features, of shape (N, p). Each X[i] is a training sample.\n",
    "        y (pd.Series): Vector of training values of Capacitance, of shape (N,). y[i] is the Capacitance for X[i].\n",
    "        columns_dict: Dictionary mapping column indices to whether the column is categorical or numerical variable.\n",
    "        max_depth (int).\n",
    "        min_samples_leaf (int).\n",
    "    Return:\n",
    "        Random forest.\n",
    "    \"\"\"\n",
    "    \n",
    "    feature_names = X.columns.tolist()\n",
    "    X = X.to_numpy()\n",
    "    y = y.to_numpy()\n",
    "    N = X.shape[0]\n",
    "    training_indices = np.arange(N)\n",
    "    trees = []\n",
    "    \n",
    "    for _ in range(B):\n",
    "        # Sample the training_indices (with replacement)\n",
    "        sample = np.random.choice(training_indices, N, replace=True)\n",
    "        oob_indices = set(training_indices) - set(sample) # Out-of-bag indices sample\n",
    "        X_sample = X[sample, :]\n",
    "        y_sample = y[sample]\n",
    "        tree = build_tree_rf(n_features, X_sample, y_sample, columns_dict, feature_names, depth=1, max_depth=max_depth, min_samples_leaf=min_samples_leaf, oob_indices=oob_indices)\n",
    "        trees.append(tree)\n",
    "\n",
    "    return trees"
   ]
  },
  {
   "cell_type": "markdown",
   "metadata": {},
   "source": [
    "Let's define the prediction function `predict_rf()` which aggregates the Capacitance from all decision trees and returns the mean of all these Capacitances."
   ]
  },
  {
   "cell_type": "code",
   "execution_count": 178,
   "metadata": {},
   "outputs": [],
   "source": [
    "def predict_rf(rf, X):\n",
    "    \"\"\"\n",
    "    Estimate the Capacitances for X with the fitted random forest.\n",
    "    Args:\n",
    "        rf: Random forest.\n",
    "        X (pd.Dataframe): Testing sample features, of shape (N, p).\n",
    "    Returns:\n",
    "        (np.array): Estimated Capacitances of X, of shape (N,).\n",
    "    \"\"\"\n",
    "    \n",
    "    if len(X.shape) == 1:\n",
    "        return np.mean([predict(tree, X) for tree in rf])\n",
    "    else:\n",
    "        return np.array([np.mean([predict(tree, x) for tree in rf]) for x in X])"
   ]
  },
  {
   "cell_type": "markdown",
   "metadata": {},
   "source": [
    "Similarly, to evaluate how well the random forest can generalise to unseen data in 'X_test', we define a function that computes the MSE and $R^2$ scores."
   ]
  },
  {
   "cell_type": "code",
   "execution_count": 21,
   "metadata": {},
   "outputs": [],
   "source": [
    "def rf_score(rf, X_test, y_test):\n",
    "    y_pred = predict_rf(rf, X_test)\n",
    "    \n",
    "    #MSE\n",
    "    mse = np.mean((y_pred - y_test)**2)\n",
    "    \n",
    "    #R2 score\n",
    "    numerator = np.sum((y_test - y_pred)**2)\n",
    "    y_avg = np.mean(y_test)\n",
    "    denominator = np.sum((y_test - y_avg)**2)\n",
    "    r2_score = 1 - numerator/denominator\n",
    "    \n",
    "    return mse, r2_score"
   ]
  },
  {
   "cell_type": "markdown",
   "metadata": {},
   "source": [
    "We carry out a 5-fold cross-validation, using the MSE of the Random Forest as performance metric, to find the best $B$ to fit our random forest."
   ]
  },
  {
   "cell_type": "code",
   "execution_count": 22,
   "metadata": {},
   "outputs": [],
   "source": [
    "def B_cross_validation(n_features, X, y, columns_dict, folds, B, max_depth=10, min_samples_leaf=10):\n",
    "    scores = []\n",
    "    \n",
    "    for i in range(len(folds)):\n",
    "        val_indexes = folds[i]\n",
    "        train_indexes = list(set(range(y.shape[0])) - set(val_indexes))\n",
    "        \n",
    "        X_train_i = X.iloc[train_indexes, :]\n",
    "        y_train_i = y[train_indexes]\n",
    "        \n",
    "        X_val_i = X.iloc[val_indexes, :]\n",
    "        y_val_i = y[val_indexes]\n",
    "        \n",
    "        rf_i = train_rf(B, n_features, X_train_i, y_train_i, columns_dict, max_depth=max_depth, min_samples_leaf=min_samples_leaf)\n",
    "\n",
    "        score_i = rf_score(rf_i, X_val_i.to_numpy(), y_val_i.to_numpy())[0] # Keep only MSE score\n",
    "        scores.append(score_i)\n",
    "    \n",
    "    # Return the average MSE score\n",
    "    return sum(scores) / len(scores)"
   ]
  },
  {
   "cell_type": "markdown",
   "metadata": {},
   "source": [
    "Let's scan a range of B in [1, 41] with 'early stopping' and select the one with the best cross-validation accuracy.\n",
    "\n",
    "Since the algorithm takes considerable time to run, we set a _tol_ of 150. This _tol_ is not overly excessive as, towards the end, the MSE tends to oscillate between 3000 and 3500 while each iteration takes more and more time. Nevertheless, we set a _max_patience_ of 5 which gives more flexibility."
   ]
  },
  {
   "cell_type": "code",
   "execution_count": 34,
   "metadata": {},
   "outputs": [],
   "source": [
    "def choose_best_B(n_features, X, y, columns_dict, folds, B_range, max_depth=10, min_samples_leaf=10, tol=150, max_patience=5):\n",
    "    B_scores = []\n",
    "    \n",
    "    epochs_bar_B = tqdm(enumerate(B_range), total=len(B_range))\n",
    "    \n",
    "    # Implement 'early stopping' as this method can take a lot of time\n",
    "    previous_score = np.inf\n",
    "    patience = 0\n",
    "    \n",
    "    for i, B in epochs_bar_B:\n",
    "        B_scores.append(B_cross_validation(n_features, X, y, columns_dict, folds, B, max_depth=max_depth, min_samples_leaf=min_samples_leaf))\n",
    "        epochs_bar_B.set_description(f'B = {B}, MSE: {B_scores[i]:.2f}')\n",
    "        \n",
    "        # Early stopping\n",
    "        if (np.abs(previous_score - B_scores[-1]) < tol):\n",
    "            patience += 1\n",
    "        else:\n",
    "            patience = 0\n",
    "            \n",
    "        if (patience >= max_patience):\n",
    "            print(f'Early stopping at B={B}')\n",
    "            break\n",
    "        \n",
    "        previous_score = B_scores[-1]\n",
    "            \n",
    "    \n",
    "    B_scores = np.array(B_scores)\n",
    "    best_B_index = np.argmin(B_scores)\n",
    "    return B_scores, B_range[best_B_index]"
   ]
  },
  {
   "cell_type": "code",
   "execution_count": 35,
   "metadata": {},
   "outputs": [
    {
     "data": {
      "application/vnd.jupyter.widget-view+json": {
       "model_id": "af33ee1b4fb34dad81d32342fb724f5d",
       "version_major": 2,
       "version_minor": 0
      },
      "text/plain": [
       "  0%|          | 0/40 [00:00<?, ?it/s]"
      ]
     },
     "metadata": {},
     "output_type": "display_data"
    },
    {
     "name": "stdout",
     "output_type": "stream",
     "text": [
      "Early stopping at B=23\n"
     ]
    },
    {
     "data": {
      "image/png": "[encoded data removed]",
      "text/plain": [
       "<Figure size 640x480 with 1 Axes>"
      ]
     },
     "metadata": {},
     "output_type": "display_data"
    },
    {
     "name": "stdout",
     "output_type": "stream",
     "text": [
      "Best B is: 18\n"
     ]
    }
   ],
   "source": [
    "n_features = int(X_train.shape[1]/3)\n",
    "folds_indexes = np.array_split(np.arange(len(y_train)), 5)\n",
    "\n",
    "B_scores, best_B = choose_best_B(n_features, X_train, y_train, columns_dict, folds_indexes, np.arange(1,41), max_depth=10, min_samples_leaf=10)\n",
    "\n",
    "plt.plot(np.arange(1, len(B_scores)+1), B_scores)\n",
    "plt.xlabel('B')\n",
    "plt.ylabel('MSE_SCORE')\n",
    "plt.grid()\n",
    "plt.show()\n",
    "\n",
    "print('Best B is:', best_B)"
   ]
  },
  {
   "cell_type": "markdown",
   "metadata": {},
   "source": [
    "Finally, let's fit our random forest (+ random forest without feature bagging) and evaluate its performance with the best $B$ on both the train set and test set."
   ]
  },
  {
   "cell_type": "code",
   "execution_count": 39,
   "metadata": {},
   "outputs": [],
   "source": [
    "rf_best_B = train_rf(best_B, n_features, X_train, y_train, columns_dict, max_depth=10, min_samples_leaf=10)\n",
    "\n",
    "# We keep the same best_B for RF without feature bagging (as told on edstem)\n",
    "rf_best_B_no_feature_bagging = train_rf(best_B, X_train.shape[1], X_train, y_train, columns_dict, max_depth=10, min_samples_leaf=10)"
   ]
  },
  {
   "cell_type": "code",
   "execution_count": 40,
   "metadata": {},
   "outputs": [
    {
     "name": "stdout",
     "output_type": "stream",
     "text": [
      "RF Train score (MSE, R^2): (1284.5932239053573, 0.8061655537096689)\n",
      "RF Test score (MSE, R^2): (3190.8231385143285, 0.5166954329409239)\n",
      "\n",
      "DT Train score (MSE, R^2): (1654.4051506951573, 0.7503640060081044)\n",
      "DT Test score (MSE, R^2): (3369.5671069811706, 0.4896216113769649)\n",
      "\n",
      "RF (No feature bagging) Train score (MSE, R^2): (1179.8265924955085, 0.8219739680863957)\n",
      "RF (No feature bagging) Test score (MSE, R^2): (3035.750965670511, 0.5401837574596207)\n"
     ]
    }
   ],
   "source": [
    "# We keep the same best_B for RF without feature bagging (as told on edstem)\n",
    "\n",
    "rf_score_train = rf_score(rf_best_B, X_train.to_numpy(), y_train.to_numpy())\n",
    "rf_score_test = rf_score(rf_best_B, X_test.to_numpy(), y_test.to_numpy())\n",
    "\n",
    "print('RF Train score (MSE, R^2):', rf_score_train)\n",
    "print('RF Test score (MSE, R^2):', rf_score_test)\n",
    "\n",
    "print('\\nDT Train score (MSE, R^2):', tree_score(tree, X_train.to_numpy(), y_train.to_numpy()))\n",
    "print('DT Test score (MSE, R^2):', tree_score(tree, X_test.to_numpy(), y_test.to_numpy()))\n",
    "\n",
    "print('\\nRF (No feature bagging) Train score (MSE, R^2):', rf_score(rf_best_B_no_feature_bagging, X_train.to_numpy(), y_train.to_numpy()))\n",
    "print('RF (No feature bagging) Test score (MSE, R^2):', rf_score(rf_best_B_no_feature_bagging, X_test.to_numpy(), y_test.to_numpy()))"
   ]
  },
  {
   "cell_type": "markdown",
   "metadata": {},
   "source": [
    "**Analysis:** First of all, we observe that the Random forest is doing better than the Decision tree, which aligns with our expectations. However, the time required to train the Random forest, especially the time taken to find the best $B$ by cross-validation, might not be worth the improvement compared to the Decision tree: $-300$ for MSE and $+0.04$ for $R^2$ score on the train set and almost no improvement on the test set. \n",
    "\n",
    "Furthermore, we observe that the Random forest with no feature bagging fits the training set better, with lower MSE and higher $R^2$ score. Nevertheless, its performance on the test set is similar to that of the Random forest. These observations align with the concept behind feature bagging, which introduces randomness to reduce overfitting of the training set."
   ]
  },
  {
   "cell_type": "markdown",
   "metadata": {},
   "source": [
    "In the following parts, we will use $best\\_B$."
   ]
  },
  {
   "cell_type": "markdown",
   "metadata": {
    "id": "lEwNJHHTMgNG"
   },
   "source": [
    "<a name=\"task-113\"></a>\n",
    "\n",
    "### (1.1.3) [(index)](#index-task-113)"
   ]
  },
  {
   "cell_type": "markdown",
   "metadata": {},
   "source": [
    "We carry out a 5-fold cross-validation, using the MSE of the random forest as performance metric, to find the best $max\\_depth$ and $min\\_samples\\_leaf$ to fit our random forest."
   ]
  },
  {
   "cell_type": "code",
   "execution_count": 41,
   "metadata": {},
   "outputs": [],
   "source": [
    "def depth_leaf_cross_validation(B, n_features, X, y, columns_dict, folds, max_depth, min_samples_leaf):\n",
    "    scores = []\n",
    "    \n",
    "    for i, fold in enumerate(folds):\n",
    "        val_indexes = fold\n",
    "        train_indexes = list(set(range(y.shape[0])) - set(val_indexes))\n",
    "        \n",
    "        X_train_i = X.iloc[train_indexes, :]\n",
    "        y_train_i = y[train_indexes]\n",
    "        \n",
    "        X_val_i = X.iloc[val_indexes, :]\n",
    "        y_val_i = y[val_indexes]\n",
    "        \n",
    "        rf_i = train_rf(B, n_features, X_train_i, y_train_i, columns_dict, max_depth, min_samples_leaf)\n",
    "        \n",
    "        score_i = rf_score(rf_i, X_val_i.to_numpy(), y_val_i.to_numpy())[0] # Keep only MSE score\n",
    "        scores.append(score_i)\n",
    "    \n",
    "    # Return the average MSE score\n",
    "    return sum(scores) / len(scores)"
   ]
  },
  {
   "cell_type": "markdown",
   "metadata": {},
   "source": [
    "Let's scan a range of $max\\_depth$ and $min\\_samples\\_leaf$ in respectively $[1,20]$ and $[1,15]$ with early stopping and select the couple with the best cross-validation accuracy.\n",
    "\n",
    "Since the algorithm takes considerable time to run, we set a _tol_ of $100$. Nevertheless, we set a _max_patience_ of $5$ which gives more flexibility."
   ]
  },
  {
   "cell_type": "code",
   "execution_count": 42,
   "metadata": {},
   "outputs": [],
   "source": [
    "def choose_best_depth_leafs(B, n_features, X, y, columns_dict, folds, max_depth_range, min_samples_leaf_range, tol=1e2, max_patience=5, print_progression=False):\n",
    "    DL_scores = np.full((len(max_depth_range),len(min_samples_leaf_range)), np.inf)\n",
    "    \n",
    "    # Early stopping\n",
    "    previous_score_leaf = np.inf\n",
    "    patience_depth = 0\n",
    "    \n",
    "    for i, max_depth in enumerate(max_depth_range):\n",
    "        epochs_bar_leaf = tqdm(enumerate(min_samples_leaf_range), total=len(min_samples_leaf_range))\n",
    "        \n",
    "        patience_leaf = 0\n",
    "        for j, min_samples_leaf in epochs_bar_leaf:\n",
    "            DL_scores[i,j] = depth_leaf_cross_validation(B, n_features, X, y, columns_dict, folds, max_depth, min_samples_leaf)\n",
    "            epochs_bar_leaf.set_description(f'max_depth={max_depth}, min_samples_leaf={min_samples_leaf}, MSE:{DL_scores[i,j]:.2f}')\n",
    "            \n",
    "            # Early stopping for leaf\n",
    "            if np.abs(previous_score_leaf - DL_scores[i,j]) < tol:\n",
    "                patience_leaf += 1\n",
    "            else:\n",
    "                patience_leaf = 0\n",
    "\n",
    "            if (patience_leaf >= max_patience):\n",
    "                print(f'Early stopping over leaf at min_samples_leaf={min_samples_leaf}')\n",
    "                break\n",
    "\n",
    "            previous_score_leaf = DL_scores[i,j]\n",
    "    \n",
    "        # Early stopping for depth\n",
    "        if i > 0:\n",
    "            if np.abs(DL_scores[i-1,j] - DL_scores[i,j]) < tol:\n",
    "                patience_depth += 1\n",
    "            else:\n",
    "                patience_depth = 0\n",
    "\n",
    "            if (patience_depth >= max_patience):\n",
    "                print(f'Early stopping over leaf at max_depth={max_depth} and min_samples_leaf={min_samples_leaf}')\n",
    "                break\n",
    "            \n",
    "    \n",
    "    best_indexes = np.argmin(np.array(DL_scores))\n",
    "    best_indexes = np.unravel_index(best_indexes, DL_scores.shape)\n",
    "    \n",
    "    return DL_scores, max_depth_range[best_indexes[0]], min_samples_leaf_range[best_indexes[1]]"
   ]
  },
  {
   "cell_type": "code",
   "execution_count": 43,
   "metadata": {},
   "outputs": [
    {
     "data": {
      "application/vnd.jupyter.widget-view+json": {
       "model_id": "1e655611c9a64bb9bbc50184b88b5d8f",
       "version_major": 2,
       "version_minor": 0
      },
      "text/plain": [
       "  0%|          | 0/15 [00:00<?, ?it/s]"
      ]
     },
     "metadata": {},
     "output_type": "display_data"
    },
    {
     "name": "stdout",
     "output_type": "stream",
     "text": [
      "Early stopping over leaf at min_samples_leaf=6\n"
     ]
    },
    {
     "data": {
      "application/vnd.jupyter.widget-view+json": {
       "model_id": "48dfa009b483411fa230c0404c085f7d",
       "version_major": 2,
       "version_minor": 0
      },
      "text/plain": [
       "  0%|          | 0/15 [00:00<?, ?it/s]"
      ]
     },
     "metadata": {},
     "output_type": "display_data"
    },
    {
     "name": "stdout",
     "output_type": "stream",
     "text": [
      "Early stopping over leaf at min_samples_leaf=11\n"
     ]
    },
    {
     "data": {
      "application/vnd.jupyter.widget-view+json": {
       "model_id": "aa28f43769ae4b50be64aa0a4a421c3d",
       "version_major": 2,
       "version_minor": 0
      },
      "text/plain": [
       "  0%|          | 0/15 [00:00<?, ?it/s]"
      ]
     },
     "metadata": {},
     "output_type": "display_data"
    },
    {
     "name": "stdout",
     "output_type": "stream",
     "text": [
      "Early stopping over leaf at min_samples_leaf=6\n"
     ]
    },
    {
     "data": {
      "application/vnd.jupyter.widget-view+json": {
       "model_id": "c264c1ccf31b4dd596920a512329a1f7",
       "version_major": 2,
       "version_minor": 0
      },
      "text/plain": [
       "  0%|          | 0/15 [00:00<?, ?it/s]"
      ]
     },
     "metadata": {},
     "output_type": "display_data"
    },
    {
     "name": "stdout",
     "output_type": "stream",
     "text": [
      "Early stopping over leaf at min_samples_leaf=6\n"
     ]
    },
    {
     "data": {
      "application/vnd.jupyter.widget-view+json": {
       "model_id": "6a1d33e2b5aa4c519b7a846960817a46",
       "version_major": 2,
       "version_minor": 0
      },
      "text/plain": [
       "  0%|          | 0/15 [00:00<?, ?it/s]"
      ]
     },
     "metadata": {},
     "output_type": "display_data"
    },
    {
     "data": {
      "application/vnd.jupyter.widget-view+json": {
       "model_id": "b8fde293fdea4892abe001258ba3b467",
       "version_major": 2,
       "version_minor": 0
      },
      "text/plain": [
       "  0%|          | 0/15 [00:00<?, ?it/s]"
      ]
     },
     "metadata": {},
     "output_type": "display_data"
    },
    {
     "name": "stdout",
     "output_type": "stream",
     "text": [
      "Early stopping over leaf at min_samples_leaf=7\n"
     ]
    },
    {
     "data": {
      "application/vnd.jupyter.widget-view+json": {
       "model_id": "0d03e7d103b243f4a980cce24b8f53ba",
       "version_major": 2,
       "version_minor": 0
      },
      "text/plain": [
       "  0%|          | 0/15 [00:00<?, ?it/s]"
      ]
     },
     "metadata": {},
     "output_type": "display_data"
    },
    {
     "data": {
      "application/vnd.jupyter.widget-view+json": {
       "model_id": "044725e2655a433a86f77cdc30eec3ca",
       "version_major": 2,
       "version_minor": 0
      },
      "text/plain": [
       "  0%|          | 0/15 [00:00<?, ?it/s]"
      ]
     },
     "metadata": {},
     "output_type": "display_data"
    },
    {
     "data": {
      "application/vnd.jupyter.widget-view+json": {
       "model_id": "e15d5fb1dabc44468bc21934fc59af51",
       "version_major": 2,
       "version_minor": 0
      },
      "text/plain": [
       "  0%|          | 0/15 [00:00<?, ?it/s]"
      ]
     },
     "metadata": {},
     "output_type": "display_data"
    },
    {
     "data": {
      "application/vnd.jupyter.widget-view+json": {
       "model_id": "0921af22693b403cb13c6b1c10ed7617",
       "version_major": 2,
       "version_minor": 0
      },
      "text/plain": [
       "  0%|          | 0/15 [00:00<?, ?it/s]"
      ]
     },
     "metadata": {},
     "output_type": "display_data"
    },
    {
     "data": {
      "application/vnd.jupyter.widget-view+json": {
       "model_id": "28fb9ff5fd904d51b7086d6899ef8009",
       "version_major": 2,
       "version_minor": 0
      },
      "text/plain": [
       "  0%|          | 0/15 [00:00<?, ?it/s]"
      ]
     },
     "metadata": {},
     "output_type": "display_data"
    },
    {
     "data": {
      "application/vnd.jupyter.widget-view+json": {
       "model_id": "d72bdbb5a78c4468a0659893ae3a4348",
       "version_major": 2,
       "version_minor": 0
      },
      "text/plain": [
       "  0%|          | 0/15 [00:00<?, ?it/s]"
      ]
     },
     "metadata": {},
     "output_type": "display_data"
    },
    {
     "name": "stdout",
     "output_type": "stream",
     "text": [
      "Early stopping over leaf at min_samples_leaf=6\n"
     ]
    },
    {
     "data": {
      "application/vnd.jupyter.widget-view+json": {
       "model_id": "d756936e17f7449097b1cb5ac84d5c3a",
       "version_major": 2,
       "version_minor": 0
      },
      "text/plain": [
       "  0%|          | 0/15 [00:00<?, ?it/s]"
      ]
     },
     "metadata": {},
     "output_type": "display_data"
    },
    {
     "data": {
      "application/vnd.jupyter.widget-view+json": {
       "model_id": "b11cc6be7a634ae6a0840dbd1589902a",
       "version_major": 2,
       "version_minor": 0
      },
      "text/plain": [
       "  0%|          | 0/15 [00:00<?, ?it/s]"
      ]
     },
     "metadata": {},
     "output_type": "display_data"
    },
    {
     "name": "stdout",
     "output_type": "stream",
     "text": [
      "Early stopping over leaf at min_samples_leaf=6\n"
     ]
    },
    {
     "data": {
      "application/vnd.jupyter.widget-view+json": {
       "model_id": "291065abe2e2492b9f747791b5d56773",
       "version_major": 2,
       "version_minor": 0
      },
      "text/plain": [
       "  0%|          | 0/15 [00:00<?, ?it/s]"
      ]
     },
     "metadata": {},
     "output_type": "display_data"
    },
    {
     "data": {
      "application/vnd.jupyter.widget-view+json": {
       "model_id": "29e76ffaf0174023abf4cfe342e8d3b5",
       "version_major": 2,
       "version_minor": 0
      },
      "text/plain": [
       "  0%|          | 0/15 [00:00<?, ?it/s]"
      ]
     },
     "metadata": {},
     "output_type": "display_data"
    },
    {
     "data": {
      "application/vnd.jupyter.widget-view+json": {
       "model_id": "1f7f4e119d7449cc8ae53229433214fb",
       "version_major": 2,
       "version_minor": 0
      },
      "text/plain": [
       "  0%|          | 0/15 [00:00<?, ?it/s]"
      ]
     },
     "metadata": {},
     "output_type": "display_data"
    },
    {
     "data": {
      "application/vnd.jupyter.widget-view+json": {
       "model_id": "d5874459b90c4faf89ca78279f49be05",
       "version_major": 2,
       "version_minor": 0
      },
      "text/plain": [
       "  0%|          | 0/15 [00:00<?, ?it/s]"
      ]
     },
     "metadata": {},
     "output_type": "display_data"
    },
    {
     "data": {
      "application/vnd.jupyter.widget-view+json": {
       "model_id": "d488ba5f334d4176b24c8120af76f3b6",
       "version_major": 2,
       "version_minor": 0
      },
      "text/plain": [
       "  0%|          | 0/15 [00:00<?, ?it/s]"
      ]
     },
     "metadata": {},
     "output_type": "display_data"
    },
    {
     "data": {
      "application/vnd.jupyter.widget-view+json": {
       "model_id": "b12cc8a5c4a5452287f26c8b0f72666f",
       "version_major": 2,
       "version_minor": 0
      },
      "text/plain": [
       "  0%|          | 0/15 [00:00<?, ?it/s]"
      ]
     },
     "metadata": {},
     "output_type": "display_data"
    },
    {
     "name": "stdout",
     "output_type": "stream",
     "text": [
      "best_max_depth=19 and best_min_samples_leaf=3\n"
     ]
    }
   ],
   "source": [
    "n_features = int(X_train.shape[1]/3)\n",
    "folds_indexes = np.array_split(np.arange(len(y_train)), 5)\n",
    "\n",
    "_, best_max_depth, best_min_samples_leaf = choose_best_depth_leafs(best_B, n_features, X_train, y_train, columns_dict, folds_indexes, np.arange(1, 21), np.arange(1, 16), print_progression=True)\n",
    "\n",
    "print(f'best_max_depth={best_max_depth} and best_min_samples_leaf={best_min_samples_leaf}')"
   ]
  },
  {
   "cell_type": "markdown",
   "metadata": {},
   "source": [
    "Finally, let's evaluate the accuracy with the best $B$, $max\\_depth$ and $min\\_samples\\_leaf$ on X_train and X_test."
   ]
  },
  {
   "cell_type": "code",
   "execution_count": 186,
   "metadata": {},
   "outputs": [],
   "source": [
    "rf_all_best = train_rf(best_B, n_features, X_train, y_train, columns_dict, max_depth=best_max_depth, min_samples_leaf=best_min_samples_leaf)"
   ]
  },
  {
   "cell_type": "code",
   "execution_count": 187,
   "metadata": {},
   "outputs": [
    {
     "name": "stdout",
     "output_type": "stream",
     "text": [
      "RF_all_best Train score (MSE, R^2): (375.75712279433884, 0.943301371608469)\n",
      "RF_all_best Test score (MSE, R^2): (2739.7960519804733, 0.5850111750947358)\n",
      "\n",
      "RF Train score (MSE, R^2): (1284.5932239053573, 0.8061655537096689)\n",
      "RF Test score (MSE, R^2): (3190.8231385143285, 0.5166954329409239)\n"
     ]
    }
   ],
   "source": [
    "print('RF_all_best Train score (MSE, R^2):', rf_score(rf_all_best, X_train.to_numpy(), y_train.to_numpy()))\n",
    "print('RF_all_best Test score (MSE, R^2):', rf_score(rf_all_best, X_test.to_numpy(), y_test.to_numpy()))\n",
    "\n",
    "print('\\nRF Train score (MSE, R^2):', rf_score(rf_best_B, X_train.to_numpy(), y_train.to_numpy()))\n",
    "print('RF Test score (MSE, R^2):', rf_score(rf_best_B, X_test.to_numpy(), y_test.to_numpy()))"
   ]
  },
  {
   "cell_type": "markdown",
   "metadata": {},
   "source": [
    "**ANALYSIS:** As expected, the random forest with all the best hyperparameters is performing better than the random forest with only the best $B$. Indeed, it has a way lower MSE on the train set and thus a very good $R^2$ score of $0.94$. Nevertheless, the improvement on the test set is much less impressive. \n",
    "\n",
    "Overall, this last Random forest with all the best hyperparameters outperform the other previous Random forest and Decision tree. However, as estimating $best\\_max\\_depth$ and $best\\_min\\_samples\\_leaf$ takes a significant amount of time, the improvement of the model (compared to Random forest with best $B$) might not be worth the time taken."
   ]
  },
  {
   "cell_type": "markdown",
   "metadata": {},
   "source": [
    "Let's now estimate the importance factors of each feature, using the Out-Of-Bag samples from bagging and the MSE as performance metric. We will proceed as follows:\n",
    "- First, iterate over the features of _X_train_;\n",
    "- Copy _X_train_ in _X_train_shuffled and shuffle the values of the column 'feature' in _X_train_shuffled;\n",
    "- Iterate over the trees of the random forest rf;\n",
    "- For each tree define _X_train_oob_, _X_train_shuffled_oob_ and _y_train_oob_ from the out-of-bag indices of the tree;\n",
    "- Compute the MSE of the out-of-bag samples with _mse_shuffled_oob_  and without shuffling _mse_oob_ (+= over the trees);\n",
    "- After iterating over the trees, estimate the decrease in the MSE: _mse_shuffled_oob_ - _mse_oob_ and store it in a dictionary _features_importance_ as the importance of _current_feature_;\n",
    "- Identify the feature with the maximum importance in _features_importance_;\n",
    "- Create a dictionary which contains the importance of each feature as a percentage of the most important feature;\n",
    "- Sort this last dictionary for a better visualisation when plotting;\n",
    "- Plot using plt.barh."
   ]
  },
  {
   "cell_type": "code",
   "execution_count": 188,
   "metadata": {},
   "outputs": [],
   "source": [
    "def rf_feature_importance(rf, X_train, y_train):\n",
    "    \"\"\"\n",
    "    Estimate the importance of each feature.\n",
    "    Args:\n",
    "        rf: Random forest.\n",
    "        X_train (pd.Dataframe): Training features, of shape (N, p).\n",
    "        y_train (pd.Dataframe): Vector of training Capacitances, of shape (N,).\n",
    "    Returns:\n",
    "        percentages_importance (dictionary): Sorted features importance.\n",
    "    \"\"\"\n",
    "    \n",
    "    features_importance = {feature: 0 for feature in X_train.columns}\n",
    "    \n",
    "    for feature in features_importance:\n",
    "        X_train_shuffled = X_train.copy()\n",
    "        \n",
    "        # Let's shuffle the values of column feature\n",
    "        values = X_train_shuffled.loc[:, feature].values\n",
    "        np.random.shuffle(values)\n",
    "        X_train_shuffled.loc[:, feature] = values\n",
    "        \n",
    "        # Now let's compute MSE of OOB samples before and after shuffle\n",
    "        mse_oob = 0.\n",
    "        mse_shuffled_oob = 0.\n",
    "        for tree in rf:\n",
    "            oob_indices = list(tree['oob_indices'])\n",
    "       \n",
    "            X_train_oob = X_train.iloc[oob_indices,:] \n",
    "            X_train_shuffled_oob = X_train_shuffled.iloc[oob_indices,:]\n",
    "            y_train_oob = y_train[oob_indices]\n",
    "            \n",
    "            mse_oob += tree_score(tree, X_train_oob.to_numpy(), y_train_oob.to_numpy())[0]\n",
    "            mse_shuffled_oob += tree_score(tree, X_train_shuffled_oob.to_numpy(), y_train_oob.to_numpy())[0]\n",
    "        \n",
    "        features_importance[feature] = mse_shuffled_oob - mse_oob\n",
    "    \n",
    "    # Identify the feature which contribute the most to the prediction of the Capacitance.\n",
    "    max_importance = max(features_importance.values())\n",
    "    \n",
    "    # Create a dictionary which contains the importance of each feature as a percentage of the most important feature.\n",
    "    percentages_importance = {feature: (importance / max_importance)*100 for feature, importance in features_importance.items()}\n",
    "    # Sort the dictionary for better visualisation.\n",
    "    percentages_importance = dict(sorted(percentages_importance.items(), key=lambda item: item[1], reverse=False))\n",
    "    \n",
    "    return percentages_importance"
   ]
  },
  {
   "cell_type": "markdown",
   "metadata": {},
   "source": [
    "We carry out 6 different experiments as the method contains some randomness from _'np.random.shuffle(values)'_. "
   ]
  },
  {
   "cell_type": "code",
   "execution_count": 189,
   "metadata": {},
   "outputs": [
    {
     "data": {
      "image/png": "[encoded data removed]",
      "text/plain": [
       "<Figure size 1500x1000 with 6 Axes>"
      ]
     },
     "metadata": {},
     "output_type": "display_data"
    }
   ],
   "source": [
    "fig, plots = plt.subplots(3, 2, figsize=(15, 10), tight_layout=True)\n",
    "\n",
    "for row in plots:\n",
    "    for j, current_plot in enumerate(row):\n",
    "        percentages_importance = rf_feature_importance(rf_all_best, X_train, y_train)\n",
    "        current_plot.barh(list(percentages_importance.keys()), list(percentages_importance.values()))\n",
    "        current_plot.grid()\n",
    "        \n",
    "plt.suptitle('Importance of each feature expressed as a percentage of the most important feature')\n",
    "plt.show()"
   ]
  },
  {
   "cell_type": "markdown",
   "metadata": {},
   "source": [
    "Based on these experiments, we deduce that the most significant features are (unordered): 'Surface Area', 'Defect Ratio', 'Doped Oxygen Percentage' and 'H9 Factor', with 'Surface Area' tending to be the most important feature."
   ]
  },
  {
   "cell_type": "markdown",
   "metadata": {
    "id": "GqN02H_YPwr0"
   },
   "source": [
    "\n",
    "\n",
    "---\n",
    "\n"
   ]
  },
  {
   "cell_type": "markdown",
   "metadata": {
    "id": "In8XkuW_MgVV"
   },
   "source": [
    "<a name=\"task-12\"></a>\n",
    "\n",
    "## (1.2) Multi-layer Perceptron [(index)](#index-task-12)"
   ]
  },
  {
   "cell_type": "markdown",
   "metadata": {},
   "source": [
    "Just to make sure we use the original data."
   ]
  },
  {
   "cell_type": "code",
   "execution_count": 190,
   "metadata": {},
   "outputs": [],
   "source": [
    "# We seperate the training features into X_train (by extracting all columns except 'Capacitance')\n",
    "# and y_train which corresponds to the column 'Capacitance' (7th column): our targets.\n",
    "X_train = data_train_T1.drop(data_train_T1.columns[6], axis=1)\n",
    "y_train = data_train_T1[data_train_T1.columns[6]] #We keep the column 'Capacitance' of the data as our targets\n",
    "\n",
    "# Similarly for the test set\n",
    "X_test = data_test_T1.drop(data_test_T1.columns[6], axis=1)\n",
    "y_test = data_test_T1[data_test_T1.columns[6]] #We keep the column 'Capacitance' of the data as our targets"
   ]
  },
  {
   "cell_type": "code",
   "execution_count": 191,
   "metadata": {},
   "outputs": [],
   "source": [
    "# Standardise train and test data\n",
    "X_test = standardise(X_test, X_train_=X_train)\n",
    "X_train = standardise(X_train)"
   ]
  },
  {
   "cell_type": "markdown",
   "metadata": {
    "id": "R1aYyFt7MgeQ"
   },
   "source": [
    "<a name=\"task-121\"></a>\n",
    "\n",
    "### (1.2.1) [(index)](#index-task-121)"
   ]
  },
  {
   "cell_type": "markdown",
   "metadata": {},
   "source": [
    "The following function `dense()` implements the affine transformation of the dense (or fully-connected) layer, given kernel and bias parameters and the input to the layer. It returns the layer pre-activations."
   ]
  },
  {
   "cell_type": "code",
   "execution_count": 192,
   "metadata": {},
   "outputs": [],
   "source": [
    "def dense(X, W, b):\n",
    "    \"\"\"\n",
    "    Full-connected MLP layer.\n",
    "    Args:\n",
    "        X (np.ndarray): (K x h_in) array of inputs, where K is the batch size and h_in if the input features dimension.\n",
    "        W (np.ndarray): (h_out x h_in) array for kernel matrix parametersm, where h_out is the output dimension.\n",
    "        b (np.ndarray): Length (h_out) 1-D array for bias parameters.\n",
    "    Return:\n",
    "        a (np.ndarray): (K x h_out) array of pre-activations.\n",
    "    \"\"\"\n",
    "    \n",
    "    a = np.vstack([W @ x + b for x in X])\n",
    "    return a"
   ]
  },
  {
   "cell_type": "markdown",
   "metadata": {},
   "source": [
    "The hidden layers of our model will use the following activation function:\n",
    "\n",
    "$$\\sigma_r(x)=tan^{-1}(x)ln(|x|+1)$$\n",
    "\n",
    "We implement this activation function and its gradient, which will be required in the backpropagation of the MLP."
   ]
  },
  {
   "cell_type": "code",
   "execution_count": 193,
   "metadata": {},
   "outputs": [],
   "source": [
    "def fun_activation(a):\n",
    "    \"\"\"\n",
    "    Activation function.\n",
    "    Arg:\n",
    "        a (np.ndarray): (K x h_out) array of pre-activations.\n",
    "    Return:\n",
    "        h (np.ndarray): (K x h_out) array of post-activations.\n",
    "    \"\"\"\n",
    "    \n",
    "    # Compute post-activations\n",
    "    h = np.arctan(a) * np.log(np.abs(a) + 1)\n",
    "    return h\n",
    "\n",
    "\n",
    "def grad_fun_activation(a):\n",
    "    \"\"\"\n",
    "    Gradient of the activation function.\n",
    "    Arg:\n",
    "        a (np.ndarray): (K x h_out) array of pre-activations.\n",
    "    Return:\n",
    "        grad (np.ndarray): (K x h_out) gradient array of post-activations.\n",
    "    \"\"\"\n",
    "    \n",
    "    # Compute gradient\n",
    "    grad = np.log(np.abs(a) + 1) / (1 + a**2) + np.arctan(a) * np.sign(a) / (np.abs(a) + 1)\n",
    "    return grad"
   ]
  },
  {
   "cell_type": "code",
   "execution_count": 194,
   "metadata": {},
   "outputs": [],
   "source": [
    "# A lookup table for activation functions by their names.\n",
    "activation_table = {\n",
    "    \"fun\": fun_activation,\n",
    "    # Identity function.\n",
    "    \"identity\": lambda x: x\n",
    "}\n",
    "\n",
    "# A lookup table for gradient of activation functions by their names.\n",
    "grad_activation_table = {\n",
    "    \"fun\": grad_fun_activation,\n",
    "    # Identity function gradient.\n",
    "    \"identity\": lambda x: np.ones_like(x)\n",
    "}\n",
    "\n",
    "\n",
    "class MLP:\n",
    "    \"\"\"\n",
    "    This class represents a Multi-Layer Perceptron (MLP), that we use to encapsulate two components:\n",
    "        1. layers: the sequence of layers, where each layer is stored in\n",
    "            a dictionary in the format {\"W\": np.ndarray, \"b\": np.ndarray},\n",
    "            where \"W\" points to the weights array, and \"b\" points to\n",
    "            the bias vector.\n",
    "        2. rng: a pseudo random number generator (RNG) initialised to generate\n",
    "            the random weights in a reproducible manner between different\n",
    "            runtime sessions.\n",
    "    This class is also shipped with methods that perform essential operations\n",
    "    with a MLP, including:\n",
    "        - add_layers: which creates a new layer with specified dimensions.\n",
    "        - predict: applies the MLP forward pass to make predictions and produces\n",
    "            a computational graph for the forward pass that can be used to\n",
    "            compute gradients using backpropagation algorithm.\n",
    "        in addition to other light functions that return simple statistics about\n",
    "        the MLP.\n",
    "    \"\"\"\n",
    "    \n",
    "    def __init__(self, seed=42):\n",
    "        self.layers = []\n",
    "        self.rng = np.random.default_rng(seed)\n",
    "\n",
    "    def n_parameters(self):\n",
    "        \"\"\"Return the total number of parameters of weights and biases.\"\"\"\n",
    "        return sum(l[\"b\"].size + l[\"W\"].size for l in self.layers)\n",
    "\n",
    "    def n_layers(self):\n",
    "        \"\"\"Return current number of MLP layers.\"\"\"\n",
    "        return len(self.layers)\n",
    "\n",
    "    def layer_dim(self, index):\n",
    "        \"\"\"Retrieve the dimensions of the MLP layer at `index`.\"\"\"\n",
    "        return self.layers[index][\"W\"].shape\n",
    "\n",
    "    def add_layer(self, in_dim, out_dim, activation=\"identity\"):\n",
    "        \"\"\"\n",
    "        Add fully connected layer to MLP.\n",
    "        Args:\n",
    "            in_dim (int): The output dimension of the layer.\n",
    "            out_dim (int): The input dimension of the layer.\n",
    "            activation (str): The activation function name.\n",
    "        \"\"\"\n",
    "        \n",
    "        # Check if input-dimension matches output-dimension of previous layer\n",
    "        if self.n_layers() > 0:\n",
    "            last_out_dim, _ = self.layer_dim(-1)\n",
    "            assert in_dim == last_out_dim, f\"Input-dimension {in_dim} does not match output-dimension {last_out_dim} of previous layer.\"\n",
    "\n",
    "        # The first layer, in our convention illustrated, does not apply activation on the input features X.\n",
    "        if self.n_layers() == 0:\n",
    "            assert activation == \"identity\", \"Should not apply activations on the input features X, use Identity function for the first layer.\"\n",
    "\n",
    "\n",
    "        # Store each layer as a dictionary in the list\n",
    "        self.layers.append({\n",
    "            \"index\": len(self.layers),\n",
    "            # Apply Glorot initialisation for weights.\n",
    "            \"W\": self.rng.normal(size=(out_dim, in_dim)) * np.sqrt(2. / (in_dim + out_dim)),\n",
    "            # Initialise bias vector with zeros.\n",
    "            \"b\": np.zeros(out_dim),\n",
    "            # Store the activation function (as string)\n",
    "            \"activation\": activation\n",
    "        })\n",
    "\n",
    "\n",
    "    def predict(self, X):\n",
    "        \"\"\"\n",
    "        Apply the forward pass on the input X and produce prediction and the\n",
    "        forward computation graph.\n",
    "        Arg:\n",
    "            X (np.ndarray): Feature matrix.\n",
    "        Returns:\n",
    "            (np.ndarray, List[Dict[str, np.ndarray]]): A tuple of the\n",
    "            predictions and the computation graph as a sequence of intermediate\n",
    "            values through the MLP, specifically each layer will have a corresponding\n",
    "            intermediate values {\"a\": np.ndarray, \"h\": np.ndarray}, as shown in the\n",
    "            attached diagram above.\n",
    "        \"\"\"\n",
    "        \n",
    "        # We assume that we work with a batch of examples (ndim==2).\n",
    "        if X.ndim == 1:\n",
    "            # If one example passed, add a dummy dimension for the batch.\n",
    "            X = X.reshape(1, -1)\n",
    "\n",
    "        # Store pre- and post-activations in list\n",
    "        forward_pass = [{\"index\": 0, \"a\": X, \"h\": X}]\n",
    "\n",
    "        # Iterate through hidden layers\n",
    "        for k in range(1, len(self.layers)):\n",
    "            # Compute pre-activations\n",
    "            a = dense(forward_pass[k - 1][\"h\"], self.layers[k - 1][\"W\"], self.layers[k - 1][\"b\"])\n",
    "            activation = activation_table[self.layers[k][\"activation\"]]\n",
    "            forward_pass.append({\"index\": k, \"a\" : a, \"h\" : activation(a)})\n",
    "\n",
    "        y_hat = dense(forward_pass[-1][\"h\"], self.layers[-1][\"W\"], self.layers[-1][\"b\"])\n",
    "        # Predicted target is output of last layer\n",
    "        return y_hat, forward_pass"
   ]
  },
  {
   "cell_type": "markdown",
   "metadata": {},
   "source": [
    "We use the MSE loss function to evaluate the performance of our model."
   ]
  },
  {
   "cell_type": "code",
   "execution_count": 195,
   "metadata": {},
   "outputs": [],
   "source": [
    "def mse_loss(y_true, y_pred):\n",
    "    \"\"\"\n",
    "    Compute MSE-loss.\n",
    "    Args:\n",
    "        y_true (np.ndarray): Ground-truth array (K, ).\n",
    "        y_pred (np.ndarray): Predictions array (K, ).\n",
    "    Return:\n",
    "        loss (float): MSE-loss.\n",
    "    \"\"\"\n",
    "    \n",
    "    assert y_true.size == y_pred.size, \"Ground-truth and predictions have different dimensions.\"\n",
    "\n",
    "    # Adjustment to avoid subtraction between (K,) and (1, K) arrays.\n",
    "    y_true = y_true.reshape(y_pred.shape)\n",
    "\n",
    "    return np.mean((y_true - y_pred)**2, keepdims=True)"
   ]
  },
  {
   "cell_type": "code",
   "execution_count": 196,
   "metadata": {},
   "outputs": [],
   "source": [
    "def grad_mse_loss(y_true, y_pred):\n",
    "    \"\"\"\n",
    "    Compute gradient of MSE-loss.\n",
    "    Args:\n",
    "        y_true (np.ndarray): Ground-truth values (K, ).\n",
    "        y_pred (np.ndarray): Prediction values (K, ).\n",
    "    Return:\n",
    "        grad (np.ndarray): Gradient of MSE-loss (K, ).\n",
    "    \"\"\"\n",
    "    \n",
    "    # Adjustment to avoid subtraction between (K,) and (1, K) arrays.\n",
    "    y_true = y_true.reshape(y_pred.shape)\n",
    "\n",
    "    return 2.0 * (y_pred - y_true) / y_true.size"
   ]
  },
  {
   "cell_type": "code",
   "execution_count": 197,
   "metadata": {},
   "outputs": [],
   "source": [
    "def backpropagate(layers, forward_pass, delta_output):\n",
    "    \"\"\"\n",
    "    Apply the backpropagation algorithm to the MLP layers to compute the gradients starting from\n",
    "    the output layer to the input layer, and starting the chain rule from the\n",
    "    partial derivative of the loss function w.r.t the predictions y_hat.\n",
    "    Args:\n",
    "        layers (List[Dict[str, np.ndarray]]): The MLP sequence of layers, as shown in the diagrams.\n",
    "        forward_pass (List[Dict[str, np.ndarray]]): The forward pass intermediate values for\n",
    "            each layer, representing a computation graph.\n",
    "        delta_output (np.ndarray): the partial derivative of the loss function w.r.t the\n",
    "            predictions y_hat, has the shape (K, 1), where K is the batch size.\n",
    "    Return:\n",
    "        (List[Dict[str, np.ndarray]]): The computed gradient using a structure symmetric the layers.\n",
    "    \"\"\"\n",
    "    \n",
    "    # Create a list that will contain the gradients of all the layers.\n",
    "    delta = delta_output\n",
    "\n",
    "    assert len(layers) == len(forward_pass), \"Number of layers is expected to match the number of forward pass layers\"\n",
    "\n",
    "    # Iterate on layers backwardly, from output to input.\n",
    "    # Calculate gradients w.r.t. weights and biases of each level and store in list of dictionaries.\n",
    "    gradients = []\n",
    "    for layer, forward_computes in reversed(list(zip(layers, forward_pass))):\n",
    "        assert forward_computes[\"index\"] == layer[\"index\"], \"Mismatch in the index.\"\n",
    "\n",
    "        h = forward_computes[\"h\"]\n",
    "        assert delta.shape[0] == h.shape[0], \"Mismatch in the batch dimension.\"\n",
    "\n",
    "\n",
    "        gradients.append({\"W\" : delta.T @ h,\n",
    "                          \"b\" : delta.sum(axis=0)})\n",
    "\n",
    "        # Update the delta for the next iteration\n",
    "        grad_activation_f = grad_activation_table[layer[\"activation\"]]\n",
    "        grad_activation = grad_activation_f(forward_computes[\"a\"])\n",
    "\n",
    "        # Calculate the delta for the backward layer.\n",
    "        delta = np.stack([np.diag(gi) @ layer[\"W\"].T @ di\n",
    "                           for (gi, di) in zip(grad_activation, delta)])\n",
    "\n",
    "\n",
    "    # Return now ordered list matching the layers.\n",
    "    return list(reversed(gradients))"
   ]
  },
  {
   "cell_type": "code",
   "execution_count": 198,
   "metadata": {},
   "outputs": [],
   "source": [
    "def sgd_step(X, y, mlp, learning_rate = 5e-5):\n",
    "    \"\"\"\n",
    "    Apply a stochastic gradient descent step using the sampled batch.\n",
    "    Args:\n",
    "        X (np.ndarray): The input features array batch, with dimension (K, p).\n",
    "        y (np.ndarray): The ground-truth of the batch, with dimension (K, 1).\n",
    "        mlp (MLP): The MLP object enacpsulating the MLP model.\n",
    "        learning_rate (float): The learning rate multiplier for the update steps in SGD.\n",
    "    Returns:\n",
    "        (List[Dict[str, np.ndarray]]): The updated layers after applying SGD.\n",
    "    \"\"\"\n",
    "    \n",
    "    # Compute the forward pass.\n",
    "    y_hat, forward_pass = mlp.predict(X)\n",
    "\n",
    "    # Compute the partial derivative of the loss w.r.t. to predictions 'y_hat'.\n",
    "    delta_output = grad_mse_loss(y, y_hat)\n",
    "\n",
    "    # Apply backpropagation algorithm to compute the gradients of the MLP parameters.\n",
    "    gradients = backpropagate(mlp.layers, forward_pass, delta_output)\n",
    "\n",
    "    updated_layers = []\n",
    "    for layer, grad in zip(mlp.layers, gradients):\n",
    "        W = layer[\"W\"] - learning_rate * grad[\"W\"]\n",
    "        b = layer[\"b\"] - learning_rate * grad[\"b\"]\n",
    "        updated_layers.append({\"W\": W, \"b\": b,\n",
    "                               # Keep the activation function.\n",
    "                               \"activation\": layer[\"activation\"],\n",
    "                               \"index\": layer[\"index\"]})\n",
    "    return updated_layers"
   ]
  },
  {
   "cell_type": "markdown",
   "metadata": {},
   "source": [
    "We define a $R^2$ score to assess regression performance."
   ]
  },
  {
   "cell_type": "code",
   "execution_count": 199,
   "metadata": {},
   "outputs": [],
   "source": [
    "def r2_score(y, y_pred):\n",
    "    \"\"\"\n",
    "    R^2 score to assess regression performance.\n",
    "    Args:\n",
    "        y (np.ndarray): Ground-truth values (K, ).\n",
    "        y_pred (np.ndarray): Prediction values (K, ).\n",
    "    Return:\n",
    "        r2_score (float).\n",
    "    \"\"\"\n",
    "\n",
    "    # Adjustment to avoid subtraction between (K,) and (1, K) arrays.\n",
    "    y = y.reshape(y_pred.shape)\n",
    "\n",
    "    numerator = np.sum((y - y_pred)**2)\n",
    "    y_avg = np.mean(y)\n",
    "    denominator = np.sum((y - y_avg)**2)\n",
    "    r2_score = 1 - numerator/denominator\n",
    "\n",
    "    return r2_score"
   ]
  },
  {
   "cell_type": "code",
   "execution_count": 200,
   "metadata": {},
   "outputs": [],
   "source": [
    "def sgd(X_train, y_train, X_test, y_test, mlp, learning_rate = 5e-5, n_epochs=300, minibatchsize=8, seed=42):\n",
    "    \"\"\"\n",
    "    Run the Stochastic Gradient Descent (SGD) algorithm to optimise the parameters of MLP model to fit it on\n",
    "    the training data using MSE loss.\n",
    "    Args:\n",
    "        X_train (np.ndarray): The training data features, with shape (N, D).\n",
    "        y_train (np.ndarray): The training data ground-truth, with shape (N, 1).\n",
    "        X_test (np.ndarray): The testing data features, with shape (N_test, D).\n",
    "        y_test (np.ndarray): The testing data ground-truth, with shape (N_test, 1).\n",
    "        mlp (MLP): The MLP object enacpsulating the MLP model.\n",
    "        learning_rate (float): The learning_rate multiplier used in updating the parameters at each iteration.\n",
    "        n_epochs (int): The number of training cycles that each covers the entire training examples.\n",
    "        minibatchsize (int): The batch size used in each SGD step.\n",
    "        seed (int): AO seed for the RNG to ensure reproducibility across runtime sessions.\n",
    "    \"\"\"\n",
    "\n",
    "    # Get random number generator\n",
    "    rng = np.random.default_rng(seed)\n",
    "\n",
    "    # Compute number of iterations per epoch\n",
    "    n_iterations = int(len(y_train) / minibatchsize)\n",
    "\n",
    "    # Store losses\n",
    "    losses_train = []\n",
    "    losses_test = []\n",
    "\n",
    "    epochs_bar = tqdm(range(n_epochs))\n",
    "    for i in epochs_bar:\n",
    "\n",
    "        # Shuffle data\n",
    "        p = rng.permutation(len(y_train))\n",
    "        X_train_shuffled = X_train[p]\n",
    "        y_train_shuffled = y_train[p]\n",
    "\n",
    "        for j in range(n_iterations):\n",
    "            # Get batch\n",
    "            X_batch = X_train_shuffled[j*minibatchsize : (j+1)*minibatchsize]\n",
    "            y_batch = y_train_shuffled[j*minibatchsize : (j+1)*minibatchsize]\n",
    "\n",
    "            # Apply sgd step\n",
    "            updated_layers = sgd_step(X_batch, y_batch, mlp, learning_rate=learning_rate)\n",
    "\n",
    "            # Update weights and biases of MLP\n",
    "            mlp.layers = updated_layers\n",
    "\n",
    "        # Compute loss at the end of each epoch\n",
    "        y_hat_train, _ = mlp.predict(X_train)\n",
    "        losses_train.append(mse_loss(y_train, y_hat_train).squeeze())\n",
    "        y_hat_test, _ = mlp.predict(X_test)\n",
    "        losses_test.append(mse_loss(y_test, y_hat_test).squeeze())\n",
    "        epochs_bar.set_description(f'train_loss: {losses_train[-1]:.2f}, '\n",
    "                                   f'test_loss: {losses_test[-1]:.2f}, '\n",
    "                                   f'train_R^2: {r2_score(y_train, y_hat_train):.2f} '\n",
    "                                   f'test_R^2: {r2_score(y_test, y_hat_test):.2f} ')\n",
    "    \n",
    "    return mlp, losses_train, losses_test"
   ]
  },
  {
   "cell_type": "markdown",
   "metadata": {},
   "source": [
    "Creation and traning of our MLP."
   ]
  },
  {
   "cell_type": "code",
   "execution_count": 201,
   "metadata": {},
   "outputs": [
    {
     "data": {
      "application/vnd.jupyter.widget-view+json": {
       "model_id": "7123dd25ca44487eb00de35499e68b89",
       "version_major": 2,
       "version_minor": 0
      },
      "text/plain": [
       "  0%|          | 0/300 [00:00<?, ?it/s]"
      ]
     },
     "metadata": {},
     "output_type": "display_data"
    }
   ],
   "source": [
    "mlp = MLP(seed=2)\n",
    "mlp.add_layer(12, 50)\n",
    "mlp.add_layer(50, 50, \"fun\")\n",
    "mlp.add_layer(50, 1, \"fun\")\n",
    "\n",
    "n_epochs = 300\n",
    "mlp, losses_train, losses_test = sgd(X_train.to_numpy(), y_train.to_numpy(), X_test.to_numpy(), y_test.to_numpy(), mlp, learning_rate = 5e-5, n_epochs=n_epochs, minibatchsize=8, seed=42) "
   ]
  },
  {
   "cell_type": "code",
   "execution_count": 202,
   "metadata": {},
   "outputs": [
    {
     "data": {
      "image/png": "[encoded data removed]",
      "text/plain": [
       "<Figure size 1200x800 with 1 Axes>"
      ]
     },
     "metadata": {},
     "output_type": "display_data"
    }
   ],
   "source": [
    "# Plot training progress\n",
    "fig, ax = plt.subplots(figsize=(12, 8))\n",
    "ax.plot(np.arange(1,n_epochs+1),losses_train, label=\"Train\")\n",
    "ax.plot(np.arange(1,n_epochs+1),losses_test, label=\"Test\")\n",
    "ax.set(title=\"Losses vs Epochs\", xlabel = \"Epoch\", ylabel = \"MSE\")\n",
    "ax.legend()\n",
    "plt.grid()\n",
    "plt.show()"
   ]
  },
  {
   "cell_type": "markdown",
   "metadata": {},
   "source": [
    "We evaluate the performance of our model on the train and test sets."
   ]
  },
  {
   "cell_type": "code",
   "execution_count": 203,
   "metadata": {},
   "outputs": [
    {
     "name": "stdout",
     "output_type": "stream",
     "text": [
      "Train set: MSE=884.1597711321709 | R^2=0.8665876353071774\n",
      "Test set: MSE=2934.729984298217 | R^2=0.5554851074707505\n"
     ]
    }
   ],
   "source": [
    "y_hat_train, _ = mlp.predict(X_train.to_numpy())\n",
    "y_hat_test, _ = mlp.predict(X_test.to_numpy())\n",
    "\n",
    "print(f'Train set: MSE={losses_train[-1]} | R^2={r2_score(y_train.to_numpy(), y_hat_train)}')\n",
    "print(f'Test set: MSE={losses_test[-1]} | R^2={r2_score(y_test.to_numpy(), y_hat_test)}')"
   ]
  },
  {
   "cell_type": "markdown",
   "metadata": {},
   "source": [
    "**Analysis:**\n",
    "- The model performs very well on the training set with a 'small' MSE of $884$ and a very good $R^2$ score of $0.87$.\n",
    "- However, the model seems to generalise less effectively, with a higher MSE of $2935$ and a $R^2$ score of $0.56$, which is not optimal."
   ]
  },
  {
   "cell_type": "markdown",
   "metadata": {
    "id": "5j1--gzeMgk9"
   },
   "source": [
    "<a name=\"task-122\"></a>\n",
    "\n",
    "### (1.2.2) [(index)](#index-task-122)"
   ]
  },
  {
   "cell_type": "markdown",
   "metadata": {},
   "source": [
    "Just to make sure we use the original data."
   ]
  },
  {
   "cell_type": "code",
   "execution_count": 204,
   "metadata": {},
   "outputs": [],
   "source": [
    "# We seperate the training features into X_train (by extracting all columns except 'Capacitance')\n",
    "# and y_train which corresponds to the column 'Capacitance' (7th column): our targets.\n",
    "X_train = data_train_T1.drop(data_train_T1.columns[6], axis=1)\n",
    "y_train = data_train_T1[data_train_T1.columns[6]] #We keep the column 'Capacitance' of the data as our targets\n",
    "\n",
    "# Similarly for the test set\n",
    "X_test = data_test_T1.drop(data_test_T1.columns[6], axis=1)\n",
    "y_test = data_test_T1[data_test_T1.columns[6]] #We keep the column 'Capacitance' of the data as our targets"
   ]
  },
  {
   "cell_type": "code",
   "execution_count": 205,
   "metadata": {},
   "outputs": [],
   "source": [
    "# Standardise train and test data\n",
    "X_test = standardise(X_test, X_train_=X_train)\n",
    "X_train = standardise(X_train)"
   ]
  },
  {
   "cell_type": "markdown",
   "metadata": {},
   "source": [
    "We will now use a different optimiser to train the MLP: SGD with momentum. We first redefine the MLP class in order to implement/store the **W_v** and **b_v** terms for the computation of the momentum at each hidden unit."
   ]
  },
  {
   "cell_type": "code",
   "execution_count": 206,
   "metadata": {},
   "outputs": [],
   "source": [
    "class MLP_momentum:\n",
    "    \"\"\"\n",
    "    This class represents a Multi-Layer Perceptron (MLP), that we use to encapsulate two components:\n",
    "        1. layers: the sequence of layers, where each layer is stored in\n",
    "            a dictionary in the format {\"W\": np.ndarray, \"b\": np.ndarray},\n",
    "            where \"W\" points to the weights array, and \"b\" points to\n",
    "            the bias vector.\n",
    "        2. rng: a pseudo random number generator (RNG) initialised to generate\n",
    "            the random weights in a reproducible manner between different\n",
    "            runtime sessions.\n",
    "    This class is also shipped with methods that perform essential operations\n",
    "    with a MLP, including:\n",
    "        - add_layers: which creates a new layer with specified dimensions.\n",
    "        - predict: applies the MLP forward pass to make predictions and produces\n",
    "            a computational graph for the forward pass that can be used to\n",
    "            compute gradients using backpropagation algorithm.\n",
    "        in addition to other light functions that return simple statistics about\n",
    "        the MLP.\n",
    "    \"\"\"\n",
    "    \n",
    "    def __init__(self, seed=42):\n",
    "        self.layers = []\n",
    "        self.rng = np.random.default_rng(seed)\n",
    "\n",
    "    def n_parameters(self):\n",
    "        \"\"\"Return the total number of parameters of weights and biases.\"\"\"\n",
    "        return sum(l[\"b\"].size + l[\"W\"].size for l in self.layers)\n",
    "\n",
    "    def n_layers(self):\n",
    "        \"\"\"Return current number of MLP layers.\"\"\"\n",
    "        return len(self.layers)\n",
    "\n",
    "    def layer_dim(self, index):\n",
    "        \"\"\"Retrieve the dimensions of the MLP layer at `index`.\"\"\"\n",
    "        return self.layers[index][\"W\"].shape\n",
    "\n",
    "    def add_layer(self, in_dim, out_dim, activation=\"identity\"):\n",
    "        \"\"\"\n",
    "        Add fully connected layer to MLP.\n",
    "        Args:\n",
    "            in_dim (int): The output dimension of the layer.\n",
    "            out_dim (int): The input dimension of the layer.\n",
    "            activation (str): The activation function name.\n",
    "        \"\"\"\n",
    "        \n",
    "        # Check if input-dimension matches output-dimension of previous layer\n",
    "        if self.n_layers() > 0:\n",
    "            last_out_dim, _ = self.layer_dim(-1)\n",
    "            assert in_dim == last_out_dim, f\"Input-dimension {in_dim} does not match output-dimension {last_out_dim} of previous layer.\"\n",
    "\n",
    "        # The first layer, in our convention illustrated, does not apply activation on the input features X.\n",
    "        if self.n_layers() == 0:\n",
    "            assert activation == \"identity\", \"Should not apply activations on the input features X, use Identity function for the first layer.\"\n",
    "\n",
    "\n",
    "        # Store each layer as a dictionary in the list\n",
    "        self.layers.append({\n",
    "            \"index\": len(self.layers),\n",
    "            # Apply Glorot initialisation for weights.\n",
    "            \"W\": self.rng.normal(size=(out_dim, in_dim)) * np.sqrt(2. / (in_dim + out_dim)),\n",
    "            # Initialise bias vector with zeros.\n",
    "            \"b\": np.zeros(out_dim),\n",
    "            # Initialise momentum vector for W with zeros.\n",
    "            \"v_W\": np.zeros((out_dim, in_dim)),\n",
    "            # Initialise momentum vector for b with zeros.\n",
    "            \"v_b\": np.zeros(out_dim),\n",
    "            # Store the activation function (as string)\n",
    "            \"activation\": activation\n",
    "        })\n",
    "\n",
    "\n",
    "    def predict(self, X):\n",
    "        \"\"\"\n",
    "        Apply the forward pass on the input X and produce prediction and the\n",
    "        forward computation graph.\n",
    "        Arg:\n",
    "            X (np.ndarray): Feature matrix.\n",
    "        Return:\n",
    "            (np.ndarray, List[Dict[str, np.ndarray]]): A tuple of the\n",
    "            predictions and the computation graph as a sequence of intermediate\n",
    "            values through the MLP, specifically each layer will have a corresponding\n",
    "            intermediate values {\"a\": np.ndarray, \"h\": np.ndarray}, as shown in the\n",
    "            attached diagram above.\n",
    "        \"\"\"\n",
    "        \n",
    "        # We assume that we work with a batch of examples (ndim==2).\n",
    "        if X.ndim == 1:\n",
    "            # If one example passed, add a dummy dimension for the batch.\n",
    "            X = X.reshape(1, -1)\n",
    "\n",
    "        # Store pre- and post-activations in list\n",
    "        forward_pass = [{\"index\": 0, \"a\": X, \"h\": X}]\n",
    "\n",
    "        # Iterate through hidden layers\n",
    "        for k in range(1, len(self.layers)):\n",
    "            # Compute pre-activations\n",
    "            a = dense(forward_pass[k - 1][\"h\"], self.layers[k - 1][\"W\"], self.layers[k - 1][\"b\"])\n",
    "            activation = activation_table[self.layers[k][\"activation\"]]\n",
    "            forward_pass.append({\"index\": k, \"a\" : a, \"h\" : activation(a)})\n",
    "\n",
    "        y_hat = dense(forward_pass[-1][\"h\"], self.layers[-1][\"W\"], self.layers[-1][\"b\"])\n",
    "        # Predicted target is output of last layer\n",
    "        return y_hat, forward_pass"
   ]
  },
  {
   "cell_type": "markdown",
   "metadata": {},
   "source": [
    "Implementation of the SGD step with momentum."
   ]
  },
  {
   "cell_type": "code",
   "execution_count": 207,
   "metadata": {},
   "outputs": [],
   "source": [
    "def sgd_step_momentum(X, y, mlp, learning_rate = 5e-5, beta=0.4):\n",
    "    \"\"\"\n",
    "    Apply a stochastic gradient descent with momentum step using the sampled batch.\n",
    "    Args:\n",
    "        X (np.ndarray): The input features array batch, with dimension (N, D).\n",
    "        y (np.ndarray): The ground-truth of the batch, with dimension (N, 1).\n",
    "        learning_rate (float): The learning rate multiplier for the update steps in SGD.\n",
    "        beta (int): momentum parameter.\n",
    "    Return:\n",
    "        (List[Dict[str, np.ndarray]]): The updated layers after applying SGD.\n",
    "    \"\"\"\n",
    "    \n",
    "    # Compute the forward pass.\n",
    "    y_hat, forward_pass = mlp.predict(X)\n",
    "\n",
    "    # Compute the partial derivative of the loss w.r.t. to predictions 'y_hat'.\n",
    "    delta_output = grad_mse_loss(y, y_hat)\n",
    "\n",
    "    # Apply backpropagation algorithm to compute the gradients of the MLP parameters.\n",
    "    gradients = backpropagate(mlp.layers, forward_pass, delta_output)\n",
    "\n",
    "    updated_layers = []\n",
    "    for layer, grad in zip(mlp.layers, gradients):\n",
    "        v_W = beta * layer[\"v_W\"] + learning_rate * grad[\"W\"] # Update of the momentum vector for W\n",
    "        v_b = beta * layer[\"v_b\"] + learning_rate * grad[\"b\"] # Update of the momentum vector for b\n",
    "        W = layer[\"W\"] - v_W # Update of W using momentum\n",
    "        b = layer[\"b\"] - v_b # Update of b using momentum\n",
    "        updated_layers.append({\"W\": W, \"b\": b, \"v_W\": v_W, \"v_b\": v_b,\n",
    "                               # Keep the activation function.\n",
    "                               \"activation\": layer[\"activation\"],\n",
    "                               \"index\": layer[\"index\"]})\n",
    "    return updated_layers"
   ]
  },
  {
   "cell_type": "code",
   "execution_count": 208,
   "metadata": {},
   "outputs": [],
   "source": [
    "def sgd_momentum(X_train, y_train, X_test, y_test, mlp, learning_rate = 5e-5, beta=0.4, n_epochs=300, minibatchsize=8, seed=42):\n",
    "    \"\"\"\n",
    "    Run the Stochastic Gradient Descent with momentum algorithm to optimise the parameters of MLP model to fit it on\n",
    "    the training data using MSE loss.\n",
    "    Args:\n",
    "        X_train (np.ndarray): The training data features, with shape (N, D).\n",
    "        y_train (np.ndarray): The training data ground-truth, with shape (N, 1).\n",
    "        X_test (np.ndarray): The testing data features, with shape (N_test, D).\n",
    "        y_test (np.ndarray): The testing data ground-truth, with shape (N_test, 1).\n",
    "        mlp (MLP): The MLP object enacpsulating the MLP model.\n",
    "        learning_rate (float): The learning_rate multiplier used in updating the parameters at each iteration.\n",
    "        n_epochs (int): The number of training cycles that each covers the entire training examples.\n",
    "        minibatchsize (int): The batch size used in each SGD step.\n",
    "        seed (int): A seed for the RNG to ensure reproducibility across runtime sessions.\n",
    "    \"\"\"\n",
    "\n",
    "    # Get random number generator\n",
    "    rng = np.random.default_rng(seed)\n",
    "\n",
    "    # Compute number of iterations per epoch\n",
    "    n_iterations = int(len(y_train) / minibatchsize)\n",
    "\n",
    "    # Store losses\n",
    "    losses_train = []\n",
    "    losses_test = []\n",
    "\n",
    "    epochs_bar = tqdm(range(n_epochs))\n",
    "    for i in epochs_bar:\n",
    "\n",
    "        # Shuffle data\n",
    "        p = rng.permutation(len(y_train))\n",
    "        X_train_shuffled = X_train[p]\n",
    "        y_train_shuffled = y_train[p]\n",
    "\n",
    "        for j in range(n_iterations):\n",
    "            # Get batch\n",
    "            X_batch = X_train_shuffled[j*minibatchsize : (j+1)*minibatchsize]\n",
    "            y_batch = y_train_shuffled[j*minibatchsize : (j+1)*minibatchsize]\n",
    "\n",
    "            # Apply sgd step with momentum\n",
    "            updated_layers = sgd_step_momentum(X_batch, y_batch, mlp, learning_rate=learning_rate, beta=beta)\n",
    "\n",
    "            # Update weights and biases of MLP\n",
    "            mlp.layers = updated_layers\n",
    "\n",
    "        # Compute loss at the end of each epoch\n",
    "        y_hat_train, _ = mlp.predict(X_train)\n",
    "        losses_train.append(mse_loss(y_train, y_hat_train).squeeze())\n",
    "        y_hat_test, _ = mlp.predict(X_test)\n",
    "        losses_test.append(mse_loss(y_test, y_hat_test).squeeze())\n",
    "        epochs_bar.set_description(f'train_loss: {losses_train[-1]:.2f}, '\n",
    "                                   f'test_loss: {losses_test[-1]:.2f}, '\n",
    "                                   f'train_R^2: {r2_score(y_train, y_hat_train):.2f} '\n",
    "                                   f'test_R^2: {r2_score(y_test, y_hat_test):.2f} ')\n",
    "    \n",
    "    return mlp, losses_train, losses_test"
   ]
  },
  {
   "cell_type": "markdown",
   "metadata": {},
   "source": [
    "Creation and traning of our MLP using SGD with momentum."
   ]
  },
  {
   "cell_type": "code",
   "execution_count": 209,
   "metadata": {},
   "outputs": [
    {
     "data": {
      "application/vnd.jupyter.widget-view+json": {
       "model_id": "bec316da81514ad1bc42077f192fa342",
       "version_major": 2,
       "version_minor": 0
      },
      "text/plain": [
       "  0%|          | 0/300 [00:00<?, ?it/s]"
      ]
     },
     "metadata": {},
     "output_type": "display_data"
    }
   ],
   "source": [
    "mlp_m = MLP_momentum(seed=2)\n",
    "mlp_m.add_layer(12, 50)\n",
    "mlp_m.add_layer(50, 50, \"fun\")\n",
    "mlp_m.add_layer(50, 1, \"fun\")\n",
    "\n",
    "n_epochs = 300\n",
    "mlp_m, losses_train_m, losses_test_m = sgd_momentum(X_train.to_numpy(), y_train.to_numpy(), X_test.to_numpy(), y_test.to_numpy(), mlp_m, learning_rate = 5e-5, beta=0.4, n_epochs=300, minibatchsize=8, seed=42) "
   ]
  },
  {
   "cell_type": "code",
   "execution_count": 210,
   "metadata": {},
   "outputs": [
    {
     "data": {
      "image/png": "[encoded data removed]",
      "text/plain": [
       "<Figure size 1200x800 with 1 Axes>"
      ]
     },
     "metadata": {},
     "output_type": "display_data"
    }
   ],
   "source": [
    "# Plot training progress\n",
    "fig, ax = plt.subplots(figsize=(12, 8))\n",
    "ax.plot(np.arange(1,n_epochs+1),losses_train_m, label=\"Train\")\n",
    "ax.plot(np.arange(1,n_epochs+1),losses_test_m, label=\"Test\")\n",
    "ax.set(title=\"Losses vs Epochs | Momentum\", xlabel = \"Epoch\", ylabel = \"MSE\")\n",
    "ax.legend()\n",
    "plt.grid()\n",
    "plt.show()"
   ]
  },
  {
   "cell_type": "code",
   "execution_count": 211,
   "metadata": {},
   "outputs": [
    {
     "name": "stdout",
     "output_type": "stream",
     "text": [
      "Train set (MLP with momentum): MSE=580.0956564431973 | R^2=0.9124683843339519\n",
      "Test set (MLP with momentum): MSE=2679.5866394696905 | R^2=0.5941309171748167\n",
      "\n",
      "Train set (MLP): MSE=884.1597711321709 | R^2=0.8665876353071774\n",
      "Test set (MLP): MSE=2934.729984298217 | R^2=0.5554851074707505\n",
      "\n",
      "Train set (RF (1.1.2)): MSE=1284.5932239053573 | R^2=0.8061655537096689\n",
      "Test set (RF (1.1.2)): MSE=3190.8231385143285 | R^2=0.5166954329409239\n"
     ]
    }
   ],
   "source": [
    "y_hat_train_momentum, _ = mlp_m.predict(X_train.to_numpy())\n",
    "y_hat_test_momentum, _ = mlp_m.predict(X_test.to_numpy())\n",
    "\n",
    "print(f'Train set (MLP with momentum): MSE={mse_loss(y_train.to_numpy(), y_hat_train_momentum).squeeze()} | R^2={r2_score(y_train.to_numpy(), y_hat_train_momentum)}')\n",
    "print(f'Test set (MLP with momentum): MSE={mse_loss(y_test.to_numpy(), y_hat_test_momentum).squeeze()} | R^2={r2_score(y_test.to_numpy(), y_hat_test_momentum)}')\n",
    "\n",
    "print(f'\\nTrain set (MLP): MSE={mse_loss(y_train.to_numpy(), y_hat_train).squeeze()} | R^2={r2_score(y_train.to_numpy(), y_hat_train)}')\n",
    "print(f'Test set (MLP): MSE={mse_loss(y_test.to_numpy(), y_hat_test).squeeze()} | R^2={r2_score(y_test.to_numpy(), y_hat_test)}')\n",
    "\n",
    "print('\\nTrain set (RF (1.1.2)): MSE={} | R^2={}'.format(*rf_score_train))\n",
    "print('Test set (RF (1.1.2)): MSE={} | R^2={}'.format(*rf_score_test))"
   ]
  },
  {
   "cell_type": "markdown",
   "metadata": {},
   "source": [
    "**Analysis:**\n",
    "First of all, the MLP with momentum performs better than the MLP on both the train and test sets: \n",
    "   - Train set: MSE of $580$ and a very good $R^2$ score of $0.91$ for MLP with momentum (compared to $884$ and $0.87$ for MLP).\n",
    "   - Test set: MSE of $2680$ and a $R^2$ score of $0.59$ for MLP with momentum (compared to $2935$ and $0.56$ for MLP).\n",
    "    \n",
    "Nevertheless, both MLP and MLP with momentum do not seem to generalise perfectly to unseen data.\n",
    "\n",
    "Overall, both MLP and MLP with momentum outperform the Random forest (**1.1.2**) on both the train set and test set. Finally, considering also the time taken to train the Random forest and the MLP, MLP appears to be a more efficient model for this task. However, a $R^2$ score of $0.59$ (with momentum) is still not optimal."
   ]
  },
  {
   "cell_type": "markdown",
   "metadata": {
    "id": "2MccP5-sMgqU"
   },
   "source": [
    "<a name=\"task-123\"></a>\n",
    "\n",
    "### (1.2.3) [(index)](#index-task-123)"
   ]
  },
  {
   "cell_type": "markdown",
   "metadata": {},
   "source": [
    "Just to make sure we use the original data."
   ]
  },
  {
   "cell_type": "code",
   "execution_count": 212,
   "metadata": {},
   "outputs": [],
   "source": [
    "# We seperate the training features into X_train (by extracting all columns except 'Capacitance')\n",
    "# and y_train which corresponds to the column 'Capacitance' (7th column): our targets.\n",
    "X_train = data_train_T1.drop(data_train_T1.columns[6], axis=1)\n",
    "y_train = data_train_T1[data_train_T1.columns[6]] #We keep the column 'Capacitance' of the data as our targets\n",
    "\n",
    "# Similarly for the test set\n",
    "X_test = data_test_T1.drop(data_test_T1.columns[6], axis=1)\n",
    "y_test = data_test_T1[data_test_T1.columns[6]] #We keep the column 'Capacitance' of the data as our targets"
   ]
  },
  {
   "cell_type": "code",
   "execution_count": 213,
   "metadata": {},
   "outputs": [],
   "source": [
    "# Standardise train and test data\n",
    "X_test = standardise(X_test, X_train_=X_train)\n",
    "X_train = standardise(X_train)"
   ]
  },
  {
   "cell_type": "markdown",
   "metadata": {},
   "source": [
    "We will now perform what is called linear regression with quadratic basis functions. First of all, we need to extend the set of 12 features to a set containing also the quadratic terms."
   ]
  },
  {
   "cell_type": "code",
   "execution_count": 214,
   "metadata": {},
   "outputs": [],
   "source": [
    "def extend_features(X):\n",
    "    X_prime = X.copy() # Copy to make sure we do not modify original features\n",
    "    for i in range(X.shape[1]):\n",
    "        for j in range(i, X.shape[1]):\n",
    "            X_prime[f'Quad{i,j}'] = X_prime.iloc[:,i] * X_prime.iloc[:,j] # Add quad features\n",
    "    return X_prime"
   ]
  },
  {
   "cell_type": "code",
   "execution_count": 215,
   "metadata": {},
   "outputs": [],
   "source": [
    "X_prime_train = extend_features(X_train) # Extended X_train\n",
    "X_prime_test = extend_features(X_test) # Extended X_test"
   ]
  },
  {
   "cell_type": "markdown",
   "metadata": {},
   "source": [
    "Let's define `ridge_estimate()` which implements ridge regression with a penalty term $\\lambda$ to estimate the parameters."
   ]
  },
  {
   "cell_type": "code",
   "execution_count": 216,
   "metadata": {},
   "outputs": [],
   "source": [
    "def ridge_estimate(X, y, penalty):\n",
    "    \"\"\"\n",
    "    Apply RIDGE regression.\n",
    "    Args:\n",
    "        X (np.ndarray): Matrix of training inputs (N, D).\n",
    "        y (np.ndarray): Vector of training targets/observations (N, 1).\n",
    "        penalty (float): Penalty term in ridge regression.\n",
    "    Returns: \n",
    "        beta_ridge (np.ndarray): Maximum likelihood parameters (D, 1).\n",
    "    \"\"\"\n",
    "    \n",
    "    N, D = X.shape\n",
    "    X_aug = np.hstack([np.ones((N,1)), X]) # Augmented training inputs of size N x (D+1)\n",
    "    N_aug, D_aug = X_aug.shape\n",
    "    I = np.identity(D_aug)\n",
    "    I[0] = 0.0 # Penalty excludes the bias term.\n",
    "    beta_ridge = np.linalg.solve(X_aug.T @ X_aug + penalty * I, X_aug.T @ y)\n",
    "    return beta_ridge"
   ]
  },
  {
   "cell_type": "markdown",
   "metadata": {},
   "source": [
    "Let's analyse the distribution of the parameters for different values of $\\lambda$."
   ]
  },
  {
   "cell_type": "code",
   "execution_count": 217,
   "metadata": {},
   "outputs": [
    {
     "data": {
      "text/plain": [
       "Text(0.5, 0.98, 'Distributions of $\\\\beta$')"
      ]
     },
     "execution_count": 217,
     "metadata": {},
     "output_type": "execute_result"
    },
    {
     "data": {
      "image/png": "[encoded data removed]",
      "text/plain": [
       "<Figure size 1500x800 with 3 Axes>"
      ]
     },
     "metadata": {},
     "output_type": "display_data"
    }
   ],
   "source": [
    "lambda_range = [0.0001, 1, 1000]\n",
    "beta_hat = np.zeros((len(lambda_range),X_prime_train.shape[1]+1))\n",
    "\n",
    "fig, plots = plt.subplots(1, 3, figsize=(15,8), tight_layout=True)\n",
    "for i, penalty in enumerate(lambda_range):\n",
    "    beta_hat[i,:] = ridge_estimate(X_prime_train, y_train, penalty)\n",
    "    sns.histplot(beta_hat[i,:], ax = plots[i]) # Plot the distribution of the parameters\n",
    "    plots[i].set_title(f'Penalty = {penalty}')\n",
    "fig.suptitle(r'Distributions of $\\beta$')"
   ]
  },
  {
   "cell_type": "markdown",
   "metadata": {},
   "source": [
    "**Comment about the distributions:** On these three plots, we observe that as $\\lambda$ increases, more $\\beta^{(i)}$ tend to $0$. This observation aligns with the idea behind ridge regression. As $\\lambda$ increases, the penalty term $\\lambda\\sum|\\beta^{(i)}|$ also increases, and the only way to minimise it is to decrease the $\\beta^{(i)}$ towards $0$ (even setting some equal to $0$)."
   ]
  },
  {
   "cell_type": "code",
   "execution_count": 218,
   "metadata": {},
   "outputs": [],
   "source": [
    "def ridge_predict(X_train, y_train, X_test, penalty):\n",
    "    \"\"\"\n",
    "    RIDGE prediction.\n",
    "    Args:\n",
    "        X_train (np.ndarray): Matrix of training inputs (N, D).\n",
    "        y_train (np.ndarray): Vector of training targets/observations (N, 1).\n",
    "        X_test (np.ndarray): Matrix of testing inputs.\n",
    "        penalty (float): Penalty term in ridge regression.\n",
    "    Return: \n",
    "        Predicted values (np.ndarray).\n",
    "    \"\"\"\n",
    "    \n",
    "    beta_ridge = ridge_estimate(X_train, y_train, penalty)\n",
    "    \n",
    "    N, _ = X_test.shape\n",
    "    X_test_aug = np.hstack([np.ones((N,1)), X_test])\n",
    "    \n",
    "    return X_test_aug @ beta_ridge # Compute the predicted values"
   ]
  },
  {
   "cell_type": "markdown",
   "metadata": {},
   "source": [
    "Let's evaluate the performance of our model."
   ]
  },
  {
   "cell_type": "code",
   "execution_count": 219,
   "metadata": {},
   "outputs": [],
   "source": [
    "def ridge_score(y_pred, y_test):\n",
    "    \"\"\"\n",
    "    RIDGE score.\n",
    "    Args:\n",
    "        y_pred (np.ndarray): Vector of predicted values.\n",
    "        y_test (np.ndarray): Vector of testing inputs.\n",
    "    Returns: \n",
    "        mse score (float).\n",
    "        r2_score (float between 0 and 1).\n",
    "    \"\"\"\n",
    "    \n",
    "    #MSE\n",
    "    mse = np.mean((y_pred - y_test)**2)\n",
    "    \n",
    "    #R2 score\n",
    "    numerator = np.sum((y_test - y_pred)**2)\n",
    "    y_avg = np.mean(y_test)\n",
    "    denominator = np.sum((y_test - y_avg)**2)\n",
    "    r2_score = 1 - numerator/denominator\n",
    "    \n",
    "    return mse, r2_score"
   ]
  },
  {
   "cell_type": "markdown",
   "metadata": {},
   "source": [
    "We carry out a 5-fold cross-validation, using the MSE as performance metric, to find the best penalty term $\\lambda$ to fit our ridge regression."
   ]
  },
  {
   "cell_type": "code",
   "execution_count": 220,
   "metadata": {},
   "outputs": [],
   "source": [
    "def penalty_cross_validation(X, y, folds, penalty):\n",
    "    scores = []\n",
    "    \n",
    "    for i in range(len(folds)):\n",
    "        val_indexes = folds[i]\n",
    "        train_indexes = list(set(range(y.shape[0])) - set(val_indexes))\n",
    "        \n",
    "        X_train_i = X.iloc[train_indexes, :]\n",
    "        y_train_i = y[train_indexes]\n",
    "        \n",
    "        X_val_i = X.iloc[val_indexes, :]\n",
    "        y_val_i = y[val_indexes]\n",
    "        \n",
    "        y_pred_i = ridge_predict(X_train_i, y_train_i, X_val_i, penalty)\n",
    "\n",
    "        score_i = ridge_score(y_pred_i, y_val_i)[0]\n",
    "        scores.append(score_i)\n",
    "    \n",
    "    # Return the average MSE score\n",
    "    return sum(scores) / len(scores)"
   ]
  },
  {
   "cell_type": "code",
   "execution_count": 221,
   "metadata": {},
   "outputs": [],
   "source": [
    "def choose_best_penalty(X, y, folds, penalty_range, print_progression=False):\n",
    "    penalty_scores = np.zeros((len(penalty_range),))\n",
    "    \n",
    "    for i, penalty in enumerate(penalty_range):\n",
    "        penalty_scores[i] = penalty_cross_validation(X, y, folds, penalty)\n",
    "        \n",
    "        if (i%50 == 0) and (print_progression == True):\n",
    "            print(f'MSE_SCORE@penalty={penalty}: {penalty_scores[i]:.3f}')\n",
    "        \n",
    "    best_penalty_index = np.argmin(penalty_scores) # Index of the penalty term with the smallest score\n",
    "    \n",
    "    return penalty_scores, penalty_range[best_penalty_index]"
   ]
  },
  {
   "cell_type": "code",
   "execution_count": 222,
   "metadata": {},
   "outputs": [
    {
     "data": {
      "image/png": "[encoded data removed]",
      "text/plain": [
       "<Figure size 640x480 with 1 Axes>"
      ]
     },
     "metadata": {},
     "output_type": "display_data"
    },
    {
     "name": "stdout",
     "output_type": "stream",
     "text": [
      "Best penalty for extended features: 406\n"
     ]
    }
   ],
   "source": [
    "folds_indexes = np.array_split(np.arange(len(y_train)), 5)\n",
    "\n",
    "penalty_scores, best_penalty_extended = choose_best_penalty(X_prime_train, y_train, folds_indexes, np.arange(0,701), print_progression=False)\n",
    "\n",
    "plt.plot(np.arange(0,701), penalty_scores)\n",
    "plt.xlabel(r'$\\lambda$')\n",
    "plt.ylabel('MSE_SCORE')\n",
    "plt.title('Extended features')\n",
    "plt.grid()\n",
    "plt.show()\n",
    "\n",
    "print('Best penalty for extended features:', best_penalty_extended)"
   ]
  },
  {
   "cell_type": "markdown",
   "metadata": {},
   "source": [
    "We then carry out a ridge regression (and linear regression) on the original features."
   ]
  },
  {
   "cell_type": "code",
   "execution_count": 223,
   "metadata": {},
   "outputs": [
    {
     "data": {
      "image/png": "[encoded data removed]",
      "text/plain": [
       "<Figure size 640x480 with 1 Axes>"
      ]
     },
     "metadata": {},
     "output_type": "display_data"
    },
    {
     "name": "stdout",
     "output_type": "stream",
     "text": [
      "Best penalty for original features: 101\n"
     ]
    }
   ],
   "source": [
    "# Find best penalty for the original features\n",
    "penalty_scores_original, best_penalty_original = choose_best_penalty(X_train, y_train, folds_indexes, np.arange(0,301), print_progression=False)\n",
    "\n",
    "plt.plot(np.arange(0,301), penalty_scores_original)\n",
    "plt.xlabel(r'$\\lambda$')\n",
    "plt.ylabel('MSE_SCORE')\n",
    "plt.title('Original features')\n",
    "plt.grid()\n",
    "plt.show()\n",
    "\n",
    "print('Best penalty for original features:', best_penalty_original)"
   ]
  },
  {
   "cell_type": "markdown",
   "metadata": {},
   "source": [
    "Finally, we compare the performances of the four models: Linear and Ridge for both the extended and original features. We also compare with the MLP model implemented above."
   ]
  },
  {
   "cell_type": "code",
   "execution_count": 224,
   "metadata": {},
   "outputs": [
    {
     "name": "stdout",
     "output_type": "stream",
     "text": [
      "Test set (Linear extended): MSE=5139.661027577239 | R^2=0.2215107074470435\n",
      "Test set (Ridge extended): MSE=4989.080670133863 | R^2=0.24431866993902196\n",
      "\n",
      "Test set (Linear original features): MSE=5794.722718697646 | R^2=0.12229044568996505\n",
      "Test set (Ridge original features): MSE=5859.4976569625605 | R^2=0.11247917689335629\n",
      "\n",
      "Test set (MLP with momentum): MSE=2679.5866394696905 | R^2=0.5941309171748167\n",
      "Test set (MLP): MSE=2934.729984298217 | R^2=0.5554851074707505\n"
     ]
    }
   ],
   "source": [
    "# For the extended features\n",
    "y_pred_linear_extended = ridge_predict(X_prime_train, y_train, X_prime_test, 0)\n",
    "y_pred_ridge_extended = ridge_predict(X_prime_train, y_train, X_prime_test, best_penalty_extended)\n",
    "\n",
    "# For the original features\n",
    "y_pred_linear_original = ridge_predict(X_train, y_train, X_test, 0)\n",
    "y_pred_ridge_original = ridge_predict(X_train, y_train, X_test, best_penalty_original)\n",
    "\n",
    "\n",
    "print('Test set (Linear extended): MSE={} | R^2={}'.format(*ridge_score(y_pred_linear_extended, y_test)))\n",
    "print('Test set (Ridge extended): MSE={} | R^2={}'.format(*ridge_score(y_pred_ridge_extended, y_test)))\n",
    "\n",
    "print('\\nTest set (Linear original features): MSE={} | R^2={}'.format(*ridge_score(y_pred_linear_original, y_test)))\n",
    "print('Test set (Ridge original features): MSE={} | R^2={}'.format(*ridge_score(y_pred_ridge_original, y_test)))\n",
    "\n",
    "print(f'\\nTest set (MLP with momentum): MSE={mse_loss(y_test.to_numpy(), y_hat_test_momentum).squeeze()} | R^2={r2_score(y_test.to_numpy(), y_hat_test_momentum)}')\n",
    "print(f'Test set (MLP): MSE={mse_loss(y_test.to_numpy(), y_hat_test).squeeze()} | R^2={r2_score(y_test.to_numpy(), y_hat_test)}')"
   ]
  },
  {
   "cell_type": "markdown",
   "metadata": {},
   "source": [
    "**Analysis:** First of all, we notice that MLP and MLP with momentum both significantly outperform the four other models on the test set: about half of the MSE and twice the $R^2$ score. Hence, MLP appears to generalise better to unseen data.\n",
    "\n",
    "Furthermore, when comparing the performance between original and extended features, we observe that both Linear and Ridge with extended features perform better on the test set compared to the ones with original features. Thus, adding these quadratic basis functions seems to improve the model's generalisation to unseen data.\n",
    "\n",
    "Finally, among the models using extended features, Ridge performs slightly better than Linear as expected."
   ]
  },
  {
   "cell_type": "markdown",
   "metadata": {
    "id": "vzPd5qZZPzpM"
   },
   "source": [
    "\n",
    "\n",
    "---\n",
    "\n"
   ]
  },
  {
   "cell_type": "markdown",
   "metadata": {
    "id": "yJ1n70CNMguM"
   },
   "source": [
    "<a name=\"task-2\"></a>\n",
    "\n",
    "# (2) Task 2: Classification [(index)](#index-task-2)"
   ]
  },
  {
   "cell_type": "code",
   "execution_count": 225,
   "metadata": {},
   "outputs": [
    {
     "data": {
      "text/html": [
       "<div>\n",
       "<style scoped>\n",
       "    .dataframe tbody tr th:only-of-type {\n",
       "        vertical-align: middle;\n",
       "    }\n",
       "\n",
       "    .dataframe tbody tr th {\n",
       "        vertical-align: top;\n",
       "    }\n",
       "\n",
       "    .dataframe thead th {\n",
       "        text-align: right;\n",
       "    }\n",
       "</style>\n",
       "<table border=\"1\" class=\"dataframe\">\n",
       "  <thead>\n",
       "    <tr style=\"text-align: right;\">\n",
       "      <th></th>\n",
       "      <th>Patient ID</th>\n",
       "      <th>2D Surface</th>\n",
       "      <th>Contour Size</th>\n",
       "      <th>Total Surface</th>\n",
       "      <th>Density</th>\n",
       "      <th>Diameter</th>\n",
       "      <th>Primary Axis</th>\n",
       "      <th>Shape Variation</th>\n",
       "      <th>Location</th>\n",
       "      <th>Eccentricity_Real</th>\n",
       "      <th>Eccentricity_Imag</th>\n",
       "      <th>Class</th>\n",
       "    </tr>\n",
       "  </thead>\n",
       "  <tbody>\n",
       "    <tr>\n",
       "      <th>0</th>\n",
       "      <td>1</td>\n",
       "      <td>1325.5</td>\n",
       "      <td>160.124890</td>\n",
       "      <td>1518.5</td>\n",
       "      <td>0.872901</td>\n",
       "      <td>41.081371</td>\n",
       "      <td>36.290924</td>\n",
       "      <td>53.992371</td>\n",
       "      <td>2</td>\n",
       "      <td>6.750000e-17</td>\n",
       "      <td>1.101565</td>\n",
       "      <td>1</td>\n",
       "    </tr>\n",
       "    <tr>\n",
       "      <th>1</th>\n",
       "      <td>2</td>\n",
       "      <td>81.5</td>\n",
       "      <td>39.556349</td>\n",
       "      <td>88.0</td>\n",
       "      <td>0.926136</td>\n",
       "      <td>10.186708</td>\n",
       "      <td>8.801125</td>\n",
       "      <td>15.591203</td>\n",
       "      <td>2</td>\n",
       "      <td>8.950000e-17</td>\n",
       "      <td>1.462264</td>\n",
       "      <td>1</td>\n",
       "    </tr>\n",
       "    <tr>\n",
       "      <th>2</th>\n",
       "      <td>3</td>\n",
       "      <td>57177.0</td>\n",
       "      <td>912.607209</td>\n",
       "      <td>57611.0</td>\n",
       "      <td>0.992467</td>\n",
       "      <td>269.814784</td>\n",
       "      <td>234.644165</td>\n",
       "      <td>312.589264</td>\n",
       "      <td>4</td>\n",
       "      <td>5.390000e-17</td>\n",
       "      <td>0.880179</td>\n",
       "      <td>0</td>\n",
       "    </tr>\n",
       "    <tr>\n",
       "      <th>3</th>\n",
       "      <td>4</td>\n",
       "      <td>135.0</td>\n",
       "      <td>92.083260</td>\n",
       "      <td>206.0</td>\n",
       "      <td>0.655340</td>\n",
       "      <td>13.110581</td>\n",
       "      <td>6.568726</td>\n",
       "      <td>40.183521</td>\n",
       "      <td>3</td>\n",
       "      <td>3.700000e-16</td>\n",
       "      <td>6.035112</td>\n",
       "      <td>0</td>\n",
       "    </tr>\n",
       "    <tr>\n",
       "      <th>4</th>\n",
       "      <td>5</td>\n",
       "      <td>6653.0</td>\n",
       "      <td>1525.307779</td>\n",
       "      <td>84025.5</td>\n",
       "      <td>0.079178</td>\n",
       "      <td>92.037290</td>\n",
       "      <td>383.980133</td>\n",
       "      <td>402.407623</td>\n",
       "      <td>3</td>\n",
       "      <td>1.920000e-17</td>\n",
       "      <td>0.313504</td>\n",
       "      <td>1</td>\n",
       "    </tr>\n",
       "  </tbody>\n",
       "</table>\n",
       "</div>"
      ],
      "text/plain": [
       "   Patient ID  2D Surface  Contour Size  Total Surface   Density    Diameter  \\\n",
       "0           1      1325.5    160.124890         1518.5  0.872901   41.081371   \n",
       "1           2        81.5     39.556349           88.0  0.926136   10.186708   \n",
       "2           3     57177.0    912.607209        57611.0  0.992467  269.814784   \n",
       "3           4       135.0     92.083260          206.0  0.655340   13.110581   \n",
       "4           5      6653.0   1525.307779        84025.5  0.079178   92.037290   \n",
       "\n",
       "   Primary Axis  Shape Variation  Location  Eccentricity_Real  \\\n",
       "0     36.290924        53.992371         2       6.750000e-17   \n",
       "1      8.801125        15.591203         2       8.950000e-17   \n",
       "2    234.644165       312.589264         4       5.390000e-17   \n",
       "3      6.568726        40.183521         3       3.700000e-16   \n",
       "4    383.980133       402.407623         3       1.920000e-17   \n",
       "\n",
       "   Eccentricity_Imag  Class  \n",
       "0           1.101565      1  \n",
       "1           1.462264      1  \n",
       "2           0.880179      0  \n",
       "3           6.035112      0  \n",
       "4           0.313504      1  "
      ]
     },
     "execution_count": 225,
     "metadata": {},
     "output_type": "execute_result"
    }
   ],
   "source": [
    "data_train_T2 = pd.read_csv('brain_cancer_samples.csv')\n",
    "data_test_T2 = pd.read_csv('brain_cancer_test.csv')\n",
    "\n",
    "data_train_T2.head()\n",
    "#sns.pairplot(data_train_T2)"
   ]
  },
  {
   "cell_type": "code",
   "execution_count": 226,
   "metadata": {},
   "outputs": [],
   "source": [
    "# We seperate the training features into X_train (by extracting all columns except the first 'Patient ID' and last ones 'Class')\n",
    "# and y_train which corresponds to the column 'Class' (last column): our targets.\n",
    "X_train = data_train_T2.iloc[:,1:-1]\n",
    "y_train = data_train_T2.iloc[:,-1] #We keep the column 'Class' of the data as our targets\n",
    "\n",
    "# Similarly for the test set\n",
    "X_test = data_test_T2.iloc[:,1:-1]\n",
    "y_test = data_test_T2.iloc[:,-1] #We keep the column 'Class' of the data as our targets"
   ]
  },
  {
   "cell_type": "markdown",
   "metadata": {},
   "source": [
    "As k-Nearest Neighbours is a distance-based classifier, we decide to standardise the data."
   ]
  },
  {
   "cell_type": "code",
   "execution_count": 227,
   "metadata": {},
   "outputs": [],
   "source": [
    "# Standardise train and test data\n",
    "X_test = standardise(X_test, X_train_=X_train)\n",
    "X_train = standardise(X_train)"
   ]
  },
  {
   "cell_type": "markdown",
   "metadata": {
    "id": "snlMZuPqMgxd"
   },
   "source": [
    "<a name=\"task-21\"></a>\n",
    "\n",
    "## (2.1) k-Nearest Neighbours [(index)](#index-task-21)"
   ]
  },
  {
   "cell_type": "code",
   "execution_count": 228,
   "metadata": {},
   "outputs": [],
   "source": [
    "def euclidian_distance(p, q):\n",
    "    return np.sqrt(np.sum((p-q)**2, axis=1))"
   ]
  },
  {
   "cell_type": "markdown",
   "metadata": {
    "id": "qVwRifs5Mg0s"
   },
   "source": [
    "<a name=\"task-211\"></a>\n",
    "\n",
    "### (2.1.1) [(index)](#index-task-211)"
   ]
  },
  {
   "cell_type": "markdown",
   "metadata": {},
   "source": [
    "We find the _k_ nearest neighbours in our training set for every test data point. The majority of labels of the _k_ closest training points determines the label of the test point."
   ]
  },
  {
   "cell_type": "code",
   "execution_count": 229,
   "metadata": {},
   "outputs": [],
   "source": [
    "def k_neighbours(X_train, X_test, k, return_distance=False):\n",
    "    \"\"\"\n",
    "    Find k nearest neighbours.\n",
    "    Args:\n",
    "        X_train (np.ndarray): Matrix of training inputs (N, p).\n",
    "        X_test (np.ndarray): Matrix of testing inputs.\n",
    "        k (int): Number of neighbours.\n",
    "        return_distance (bool).\n",
    "    Returns: \n",
    "        indexes of k nearest neighbours (np.ndarray).\n",
    "        (if return_distance): distances with k nearest neighbours (np.ndarray).\n",
    "    \"\"\"\n",
    "    \n",
    "    n_neighbours = k\n",
    "    dist = []\n",
    "    neigh_ind = []\n",
    "\n",
    "    # Compute distance from each point x_test in X_test to all points in X_train\n",
    "    if len(X_test.shape) == 1:\n",
    "        point_dist = [euclidian_distance(X_test, X_train)]\n",
    "    else:\n",
    "        point_dist = [euclidian_distance(x_test, X_train) for x_test in X_test]\n",
    "\n",
    "    # Determine which k training points are closest to each test point\n",
    "    for row in point_dist:\n",
    "        enum_neigh = enumerate(row)\n",
    "        sorted_neigh = sorted(enum_neigh, key=lambda x: x[1])[:k]\n",
    "\n",
    "        ind_list = [tup[0] for tup in sorted_neigh]\n",
    "        dist_list = [tup[1] for tup in sorted_neigh]\n",
    "        \n",
    "        dist.append(dist_list)\n",
    "        neigh_ind.append(ind_list)\n",
    "\n",
    "    # Return distances together with indices of k nearest neighbours\n",
    "    if return_distance:\n",
    "        return np.array(neigh_ind), np.array(dist)\n",
    "\n",
    "    return np.array(neigh_ind)"
   ]
  },
  {
   "cell_type": "markdown",
   "metadata": {},
   "source": [
    "Once we know which _k_ neighbours are closest to our test points, we can predict the labels of these test points.\n",
    "\n",
    "We implement this in a \"pythonic\" way and call the previous function `k_neighbours()` _within_ the next function `k_predict()`.\n",
    "\n",
    "Our `k_predict()` function determines how any point $x_\\text{test}$ in the test set is classified. Here, we only consider the case where each of the *k* neighbours contributes equally to the classification of $x_\\text{test}$."
   ]
  },
  {
   "cell_type": "code",
   "execution_count": 230,
   "metadata": {},
   "outputs": [],
   "source": [
    "def k_predict(X_train, y_train, X_test, k):\n",
    "    \"\"\"\n",
    "    Predict labels of the samples in X_test.\n",
    "    Args:\n",
    "        X_train (np.ndarray): Matrix of training inputs (N, p).\n",
    "        y_train (np.ndarray): Vector of training targets/observations (N, 1).\n",
    "        X_test (np.ndarray): Matrix of testing inputs (N_test, p).\n",
    "        k (int): Number of neighbours.\n",
    "    Returns: \n",
    "        Predicted labels (np.ndarray)\n",
    "    \"\"\"\n",
    "\n",
    "    neighbours = k_neighbours(X_train, X_test, k)\n",
    "    y_pred = np.array([np.argmax(np.bincount(y_train[neighbour])) for neighbour in neighbours])\n",
    "\n",
    "    return y_pred"
   ]
  },
  {
   "cell_type": "markdown",
   "metadata": {},
   "source": [
    "We evaluate its performance on the test set with as metric the micro-averaged accuracy."
   ]
  },
  {
   "cell_type": "code",
   "execution_count": 231,
   "metadata": {},
   "outputs": [],
   "source": [
    "def k_MiAA(y_pred, y_test):\n",
    "    \"\"\"\n",
    "    Micro-averaged accuracy.\n",
    "    Args:\n",
    "        y_pred (np.ndarray): Vector of predicted labels (N, 1).\n",
    "        y_test (np.ndarray): Vector of testing targets/observations (N, 1).\n",
    "    Return:\n",
    "        MiAA (float).\n",
    "    \"\"\"\n",
    "    \n",
    "    tp_0 = np.sum((y_test == 0) & (y_pred == 0))\n",
    "    tp_1 = np.sum((y_test == 1) & (y_pred == 1))\n",
    "    tp_2 = np.sum((y_test == 2) & (y_pred == 2))\n",
    "    \n",
    "    return (tp_0 + tp_1 + tp_2) / len(y_test)"
   ]
  },
  {
   "cell_type": "markdown",
   "metadata": {},
   "source": [
    "We carry out a 5-fold cross-validation to determine the best _k_ for our model."
   ]
  },
  {
   "cell_type": "code",
   "execution_count": 232,
   "metadata": {},
   "outputs": [],
   "source": [
    "def k_cross_validation(X, y, folds, k):\n",
    "    scores = []\n",
    "    \n",
    "    for i in range(len(folds)):\n",
    "        val_indexes = folds[i]\n",
    "        train_indexes = list(set(range(y.shape[0])) - set(val_indexes))\n",
    "        \n",
    "        X_train_i = X.iloc[train_indexes, :]\n",
    "        y_train_i = y[train_indexes]\n",
    "        \n",
    "        X_val_i = X.iloc[val_indexes, :]\n",
    "        y_val_i = y[val_indexes]\n",
    "        \n",
    "        y_pred_i = k_predict(X_train_i.to_numpy(), y_train_i.to_numpy(), X_val_i.to_numpy(), k)\n",
    "        \n",
    "        score_i = k_MiAA(y_pred_i, y_val_i.to_numpy())\n",
    "        scores.append(score_i)\n",
    "    \n",
    "    # Return the average score\n",
    "    return sum(scores) / len(scores)"
   ]
  },
  {
   "cell_type": "code",
   "execution_count": 233,
   "metadata": {},
   "outputs": [],
   "source": [
    "def choose_best_k(X, y, folds, k_range, print_progression=False):\n",
    "    k_scores = np.zeros((len(k_range),))\n",
    "    \n",
    "    for i, k in enumerate(k_range):\n",
    "        k_scores[i] = k_cross_validation(X, y, folds, k)\n",
    "        if print_progression:\n",
    "            print(f'MiAA@k={k}: {k_scores[i]:.3f}')\n",
    "        \n",
    "    best_k_index = np.argmax(k_scores)\n",
    "    return k_scores, k_range[best_k_index]"
   ]
  },
  {
   "cell_type": "code",
   "execution_count": 234,
   "metadata": {},
   "outputs": [
    {
     "data": {
      "image/png": "[encoded data removed]",
      "text/plain": [
       "<Figure size 640x480 with 1 Axes>"
      ]
     },
     "metadata": {},
     "output_type": "display_data"
    },
    {
     "name": "stdout",
     "output_type": "stream",
     "text": [
      "Best k is: 3\n"
     ]
    }
   ],
   "source": [
    "folds_indexes = np.split(np.arange(len(y_train)), 5)\n",
    "\n",
    "k_scores, best_k = choose_best_k(X_train, y_train, folds_indexes, np.arange(1,101), print_progression=False)\n",
    "\n",
    "plt.plot(np.arange(1,101), k_scores)\n",
    "plt.xlabel('k')\n",
    "plt.ylabel('Micro-averaged accuracy')\n",
    "plt.grid()\n",
    "plt.show()\n",
    "\n",
    "print('Best k is:', best_k)"
   ]
  },
  {
   "cell_type": "markdown",
   "metadata": {},
   "source": [
    "Print the performance (micro-averaged accuracy) of our model on the test set X_test."
   ]
  },
  {
   "cell_type": "code",
   "execution_count": 235,
   "metadata": {},
   "outputs": [
    {
     "name": "stdout",
     "output_type": "stream",
     "text": [
      "MiAA on test set: 0.6666666666666666\n"
     ]
    }
   ],
   "source": [
    "y_pred = k_predict(X_train.to_numpy(), y_train.to_numpy(), X_test.to_numpy(), best_k)\n",
    "print('MiAA on test set:', k_MiAA(y_pred, y_test.to_numpy()))"
   ]
  },
  {
   "cell_type": "markdown",
   "metadata": {},
   "source": [
    "We visualise the number of samples for each class; the goal is to determine if any class is in majority or minority among the others."
   ]
  },
  {
   "cell_type": "code",
   "execution_count": 236,
   "metadata": {},
   "outputs": [
    {
     "data": {
      "text/plain": [
       "Text(0, 0.5, 'Numbers')"
      ]
     },
     "execution_count": 236,
     "metadata": {},
     "output_type": "execute_result"
    },
    {
     "data": {
      "image/png": "[encoded data removed]",
      "text/plain": [
       "<Figure size 640x480 with 1 Axes>"
      ]
     },
     "metadata": {},
     "output_type": "display_data"
    }
   ],
   "source": [
    "plt.hist(y_train)\n",
    "plt.xlabel('Class')\n",
    "plt.ylabel('Numbers')"
   ]
  },
  {
   "cell_type": "markdown",
   "metadata": {},
   "source": [
    "On this histogram we clearly observe that _Class 2_ is in minority. Let's analyse how our model took this observation into account.\n",
    "\n",
    "We define several metrics."
   ]
  },
  {
   "cell_type": "code",
   "execution_count": 237,
   "metadata": {},
   "outputs": [],
   "source": [
    "def k_MiAP(y_pred, y_test):\n",
    "    \"\"\"\n",
    "    Micro-averaged precision.\n",
    "    Args:\n",
    "        y_pred (np.ndarray): Vector of predicted labels (N, 1).\n",
    "        y_test (np.ndarray): Vector of testing targets/observations (N, 1).\n",
    "    Return:\n",
    "        MiAP (float).\n",
    "    \"\"\"\n",
    "    \n",
    "    tp_0 = np.sum((y_test == 0) & (y_pred == 0))\n",
    "    tp_1 = np.sum((y_test == 1) & (y_pred == 1))\n",
    "    tp_2 = np.sum((y_test == 2) & (y_pred == 2))\n",
    "    \n",
    "    fp_0 = np.sum((y_test != 0) & (y_pred == 0))\n",
    "    fp_1 = np.sum((y_test != 1) & (y_pred == 1))\n",
    "    fp_2 = np.sum((y_test != 2) & (y_pred == 2))\n",
    "    \n",
    "    return (tp_0 + tp_1 + tp_2) / (tp_0 + tp_1 + tp_2 + fp_0 + fp_1 + fp_2)"
   ]
  },
  {
   "cell_type": "code",
   "execution_count": 238,
   "metadata": {},
   "outputs": [],
   "source": [
    "def k_MaAA(y_pred, y_test):\n",
    "    \"\"\"\n",
    "    Macro-averaged accuracy.\n",
    "    Args:\n",
    "        y_pred (np.ndarray): Vector of predicted labels (N, 1).\n",
    "        y_test (np.ndarray): Vector of testing targets/observations (N, 1).\n",
    "    Return:\n",
    "        MaAA (float).\n",
    "    \"\"\"\n",
    "    \n",
    "    tp_0 = np.sum((y_test == 0) & (y_pred == 0))\n",
    "    tp_1 = np.sum((y_test == 1) & (y_pred == 1))\n",
    "    tp_2 = np.sum((y_test == 2) & (y_pred == 2))\n",
    "    \n",
    "    tn_0 = np.sum((y_test != 0) & (y_pred != 0))\n",
    "    tn_1 = np.sum((y_test != 1) & (y_pred != 1))\n",
    "    tn_2 = np.sum((y_test != 2) & (y_pred != 2))\n",
    "    \n",
    "    fp_0 = np.sum((y_test != 0) & (y_pred == 0))\n",
    "    fp_1 = np.sum((y_test != 1) & (y_pred == 1))\n",
    "    fp_2 = np.sum((y_test != 2) & (y_pred == 2))\n",
    "    \n",
    "    fn_0 = np.sum((y_test == 0) & (y_pred != 0))\n",
    "    fn_1 = np.sum((y_test == 1) & (y_pred != 1))\n",
    "    fn_2 = np.sum((y_test == 2) & (y_pred != 2))\n",
    "    \n",
    "    \n",
    "    acc_0 = (tp_0 + tn_0) / (tp_0 + tn_0 + fp_0 + fn_0)\n",
    "    acc_1 = (tp_1 + tn_1) / (tp_1 + tn_1 + fp_1 + fn_1)\n",
    "    acc_2 = (tp_2 + tn_2) / (tp_2 + tn_2 + fp_2 + fn_2)\n",
    "    \n",
    "    return (acc_0 + acc_1 + acc_2) / 3"
   ]
  },
  {
   "cell_type": "code",
   "execution_count": 239,
   "metadata": {},
   "outputs": [],
   "source": [
    "def k_MaAP(y_pred, y_test):\n",
    "    \"\"\"\n",
    "    Macro-averaged precision.\n",
    "    Args:\n",
    "        y_pred (np.ndarray): Vector of predicted labels (N, 1).\n",
    "        y_test (np.ndarray): Vector of testing targets/observations (N, 1).\n",
    "    Return:\n",
    "        MaAP (float).\n",
    "    \"\"\"\n",
    "    \n",
    "    tp_0 = np.sum((y_test == 0) & (y_pred == 0))\n",
    "    tp_1 = np.sum((y_test == 1) & (y_pred == 1))\n",
    "    tp_2 = np.sum((y_test == 2) & (y_pred == 2))\n",
    "    \n",
    "    fp_0 = np.sum((y_test !=  0) & (y_pred == 0))\n",
    "    fp_1 = np.sum((y_test !=  1) & (y_pred == 1))\n",
    "    fp_2 = np.sum((y_test !=  2) & (y_pred == 2))\n",
    "    \n",
    "    prec_0 = tp_0 / (tp_0 + fp_0)\n",
    "    prec_1 = tp_1 / (tp_1 + fp_1)\n",
    "    prec_2 = tp_2 / (tp_2 + fp_2)\n",
    "\n",
    "    return (prec_0 + prec_1 + prec_2) / 3"
   ]
  },
  {
   "cell_type": "code",
   "execution_count": 240,
   "metadata": {},
   "outputs": [],
   "source": [
    "def k_CWAA(y_pred, y_test):\n",
    "    \"\"\"\n",
    "    Class-weighted accuracy.\n",
    "    Args:\n",
    "        y_pred (np.ndarray): Vector of predicted labels (N, 1).\n",
    "        y_test (np.ndarray): Vector of testing targets/observations (N, 1).\n",
    "    Return:\n",
    "        CWAA (float).\n",
    "    \"\"\"\n",
    "    \n",
    "    freq_0 = np.sum(y_test == 0) / len(y_test)\n",
    "    freq_1 = np.sum(y_test == 1) / len(y_test)\n",
    "    freq_2 = np.sum(y_test == 2) / len(y_test)\n",
    "    \n",
    "    tp_0 = np.sum((y_test == 0) & (y_pred == 0))\n",
    "    tp_1 = np.sum((y_test == 1) & (y_pred == 1))\n",
    "    tp_2 = np.sum((y_test == 2) & (y_pred == 2))\n",
    "    \n",
    "    tn_0 = np.sum((y_test != 0) & (y_pred != 0))\n",
    "    tn_1 = np.sum((y_test != 1) & (y_pred != 1))\n",
    "    tn_2 = np.sum((y_test != 2) & (y_pred != 2))\n",
    "    \n",
    "    fp_0 = np.sum((y_test != 0) & (y_pred == 0))\n",
    "    fp_1 = np.sum((y_test != 1) & (y_pred == 1))\n",
    "    fp_2 = np.sum((y_test != 2) & (y_pred == 2))\n",
    "    \n",
    "    fn_0 = np.sum((y_test == 0) & (y_pred != 0))\n",
    "    fn_1 = np.sum((y_test == 1) & (y_pred != 1))\n",
    "    fn_2 = np.sum((y_test == 2) & (y_pred != 2))\n",
    "    \n",
    "    prec_0 = (tp_0 + tn_0) / (tp_0 + tn_0 + fp_0 + fn_0)\n",
    "    prec_1 = (tp_1 + tn_1) / (tp_1 + tn_1 + fp_1 + fn_1)\n",
    "    prec_2 = (tp_2 + tn_2) / (tp_2 + tn_2 + fp_2 + fn_2)\n",
    "    \n",
    "    return (freq_0*prec_0 + freq_1*prec_1 + freq_2*prec_2) / (freq_0 + freq_1 + freq_2)"
   ]
  },
  {
   "cell_type": "code",
   "execution_count": 241,
   "metadata": {},
   "outputs": [],
   "source": [
    "def k_CWAP(y_pred, y_test):\n",
    "    \"\"\"\n",
    "    Compute class-weighted precision.\n",
    "    Args:\n",
    "        y_pred (np.ndarray): Vector of predicted labels (N, 1).\n",
    "        y_test (np.ndarray): Vector of testing targets/observations (N, 1).\n",
    "    Return:\n",
    "        CWAP (float).\n",
    "    \"\"\"\n",
    "    \n",
    "    freq_0 = np.sum(y_test == 0) / len(y_test)\n",
    "    freq_1 = np.sum(y_test == 1) / len(y_test)\n",
    "    freq_2 = np.sum(y_test == 2) / len(y_test)\n",
    "    \n",
    "    tp_0 = np.sum((y_test == 0) & (y_pred == 0))\n",
    "    tp_1 = np.sum((y_test == 1) & (y_pred == 1))\n",
    "    tp_2 = np.sum((y_test == 2) & (y_pred == 2))\n",
    "    \n",
    "    fp_0 = np.sum((y_test !=  0) & (y_pred == 0))\n",
    "    fp_1 = np.sum((y_test !=  1) & (y_pred == 1))\n",
    "    fp_2 = np.sum((y_test !=  2) & (y_pred == 2))\n",
    "    \n",
    "    prec_0 = tp_0 / (tp_0 + fp_0)\n",
    "    prec_1 = tp_1 / (tp_1 + fp_1)\n",
    "    prec_2 = tp_2 / (tp_2 + fp_2)\n",
    "\n",
    "    return (freq_0*prec_0 + freq_1*prec_1 + freq_2*prec_2) / (freq_0 + freq_1 + freq_2)"
   ]
  },
  {
   "cell_type": "code",
   "execution_count": 242,
   "metadata": {},
   "outputs": [
    {
     "name": "stdout",
     "output_type": "stream",
     "text": [
      "MiAA: 0.6666666666666666\n",
      "MiAP: 0.6666666666666666\n",
      "MaAA: 0.7777777777777777\n",
      "MaAP: 0.7387533875338753\n",
      "CWAA: 0.7147222222222223\n",
      "CWAP: 0.6750406504065042\n"
     ]
    }
   ],
   "source": [
    "print('MiAA:', k_MiAA(y_pred, y_test.to_numpy()))\n",
    "print('MiAP:', k_MiAP(y_pred, y_test.to_numpy()))\n",
    "print('MaAA:', k_MaAA(y_pred, y_test.to_numpy()))\n",
    "print('MaAP:', k_MaAP(y_pred, y_test.to_numpy()))\n",
    "print('CWAA:', k_CWAA(y_pred, y_test.to_numpy()))\n",
    "print('CWAP:', k_CWAP(y_pred, y_test.to_numpy()))"
   ]
  },
  {
   "cell_type": "markdown",
   "metadata": {},
   "source": [
    "**Analysis**: From these results we can deduce that our model treats reasonably well the unbalance in the data. Indeed, both MiAA and MiAP give an overall assessment of the model's accuracy/precision, considering each instance equally, however, their score are not very high. Moreover, MaAA and MaAP provide the average accuracy/precision across all classes, without considering class imbalances; here again even if the scores are higher they are still not optimal. Finally, CWAA and CWAP provide an average accuracy/precision across all classes, considering class imbalances by weighting each class's accuracy by its proportion in the dataset; the scores are equivalent to the previous ones."
   ]
  },
  {
   "cell_type": "markdown",
   "metadata": {
    "id": "hrF3U23EMg3k"
   },
   "source": [
    "<a name=\"task-212\"></a>\n",
    "\n",
    "### (2.1.2) [(index)](#index-task-212)"
   ]
  },
  {
   "cell_type": "markdown",
   "metadata": {},
   "source": [
    "We design a weighted version of kNN to improve the prediction of the minority class. My reweighting strategy is to define:\n",
    "\n",
    "$$\n",
    "weights = \\frac{1}{distances}.\n",
    "$$\n",
    "\n",
    "Indeed, in doing this, the more the data point is close to our sample $x_{test}$ the more weight it will have. We then define the predicted labels $y_{pred}$ to be:\n",
    "\n",
    "$$\n",
    "y_{pred}^{(i)} = \\underset{\\text{c: class c}}{argmax}\\left(\\sum_{\\text{k: k neighbour of $x^{(i)}$}}1_{\\{class_k==c\\}}*w_k^{(i)}\\right).\n",
    "$$"
   ]
  },
  {
   "cell_type": "code",
   "execution_count": 243,
   "metadata": {},
   "outputs": [],
   "source": [
    "def k_weighted_predict(X_train, y_train, X_test, k):\n",
    "    \"\"\"\n",
    "    Predict labels of the samples in X_test with weighting.\n",
    "    Args:\n",
    "        X_train (np.ndarray): Matrix of training inputs (N, p).\n",
    "        y_train (np.ndarray): Vector of training targets/observations (N, 1).\n",
    "        X_test (np.ndarray): Matrix of testing inputs (N_test, p).\n",
    "        k (int): Number of neighbours.\n",
    "    Returns: \n",
    "        Predicted labels (np.ndarray).\n",
    "    \"\"\"\n",
    "\n",
    "    neighbours, distances = k_neighbours(X_train, X_test, k, return_distance=True)\n",
    "    \n",
    "    # Avoid division by 0 in exceptional cases (adding a small epsilon to ALL distances does not change the weighting scheme)\n",
    "    epsilon = 1e-9\n",
    "    weights = 1 / (distances + epsilon)\n",
    "    \n",
    "    class_0 = np.zeros(neighbours.shape[0])\n",
    "    class_1 = np.zeros(neighbours.shape[0])\n",
    "    class_2 = np.zeros(neighbours.shape[0])\n",
    "    \n",
    "    for ind, neighbour in enumerate(neighbours):\n",
    "        class_0[ind] = np.sum((y_train[neighbour] == 0) * weights[ind])\n",
    "        class_1[ind] = np.sum((y_train[neighbour] == 1) * weights[ind])\n",
    "        class_2[ind] = np.sum((y_train[neighbour] == 2) * weights[ind])\n",
    "    \n",
    "    y_temp = np.vstack((class_0, class_1, class_2))\n",
    "    y_pred = np.argmax(y_temp, axis=0)\n",
    "    \n",
    "    return y_pred"
   ]
  },
  {
   "cell_type": "markdown",
   "metadata": {},
   "source": [
    "As asked, we set $k=best\\_k$ which is the best _k_ obtained previously by cross-validation."
   ]
  },
  {
   "cell_type": "code",
   "execution_count": 244,
   "metadata": {},
   "outputs": [
    {
     "name": "stdout",
     "output_type": "stream",
     "text": [
      "MiAA: 0.6833333333333333\n",
      "MiAP: 0.6833333333333333\n",
      "MaAA: 0.7888888888888888\n",
      "MaAP: 0.753968253968254\n"
     ]
    }
   ],
   "source": [
    "y_pred_weighted = k_weighted_predict(X_train.to_numpy(), y_train.to_numpy(), X_test.to_numpy(), k=best_k)\n",
    "\n",
    "print('MiAA:', k_MiAA(y_pred_weighted, y_test.to_numpy()))\n",
    "print('MiAP:', k_MiAP(y_pred_weighted, y_test.to_numpy()))\n",
    "print('MaAA:', k_MaAA(y_pred_weighted, y_test.to_numpy()))\n",
    "print('MaAP:', k_MaAP(y_pred_weighted, y_test.to_numpy()))"
   ]
  },
  {
   "cell_type": "markdown",
   "metadata": {},
   "source": [
    "**Analysis:** The results obtained with the weighted version of the kNN are slightly better than the kNN model; without being much optimal either. These observations suggest that kNN may not be the most optimal model to fit to this dataset; other models might be more appropriate."
   ]
  },
  {
   "cell_type": "markdown",
   "metadata": {
    "id": "sIUs15tlMg9c"
   },
   "source": [
    "<a name=\"task-213\"></a>\n",
    "\n",
    "### (2.1.3) [(index)](#index-task-213)"
   ]
  },
  {
   "cell_type": "markdown",
   "metadata": {},
   "source": [
    "To investigate the model’s ability to discriminate cancer diagnoses (classes 1 and 2), we implement a 2-step kNN as follows:\n",
    "- Step 1: We reformulate the previous classification task as a binary classification task by combining classes 1 and 2: 'benign tumour diagnosis' (class 0) and 'malignant tumour diagnosis' (classes 1 and 2 combined with `to_binary_class()`. We train a kNN model for this binary classification task with the same _k_ as in task **2.1.1**.\n",
    "- Step 2: Next, we train another kNN model for the subsequent binary classification between classes 1 and 2, setting $k=1$. In order to do this, we remove the class 0 from the data with `remove_class()`.\n",
    "\n",
    "Finally, we use these two kNN binary models to predict which of the test data points belong to class 0, class 1 and class 2, thus performing a 2-step binary classification for the original three-class classification problem.\n",
    "\n",
    "The process is done in the function `k_predict_2_steps()`."
   ]
  },
  {
   "cell_type": "code",
   "execution_count": 245,
   "metadata": {},
   "outputs": [],
   "source": [
    "def to_binary_class(y):\n",
    "    y_return = y.copy() # Copy to make sure we do not change the original data\n",
    "    y_return[y_return == 2] = 1 # Combine classes 1 and 2.\n",
    "    return y_return"
   ]
  },
  {
   "cell_type": "code",
   "execution_count": 246,
   "metadata": {},
   "outputs": [],
   "source": [
    "def remove_class(X, y, class_nb):\n",
    "    ind = (y != class_nb)\n",
    "    return X.loc[ind,:], y.loc[ind]"
   ]
  },
  {
   "cell_type": "code",
   "execution_count": 247,
   "metadata": {},
   "outputs": [],
   "source": [
    "def k_predict_2_steps(X_train, y_train, X_test, k_step_1, k_step_2):\n",
    "    \"\"\"\n",
    "    Predict labels of the samples in X_test with a 2-steps kNN.\n",
    "    Args:\n",
    "        X_train (np.ndarray): Matrix of training inputs (N, p).\n",
    "        y_train (np.ndarray): Vector of training targets/observations (N, 1).\n",
    "        X_test (np.ndarray): Matrix of testing inputs (N_test, p).\n",
    "        k_step_1 (int): Number of neighbours for step 1.\n",
    "        k_step_2 (int): Number of neighbours for step 2 (will be 1).\n",
    "    Returns: \n",
    "        Predicted labels (np.ndarray).\n",
    "    \"\"\"\n",
    "    \n",
    "    # 1st step\n",
    "    y_train_binary = to_binary_class(y_train)\n",
    "    y_pred_binary = k_predict(X_train.to_numpy(), y_train_binary.to_numpy(), X_test.to_numpy(), k=k_step_1)\n",
    "    \n",
    "    \n",
    "    # 2nd step\n",
    "    X_train_without_0, y_train_without_0 = remove_class(X_train, y_train, class_nb=0)\n",
    "    \n",
    "    \n",
    "    y_pred_2_steps = np.zeros_like(y_pred_binary)\n",
    "\n",
    "    for ind, y_binary in enumerate(y_pred_binary):\n",
    "        if y_binary == 0:\n",
    "            y_pred_2_steps[ind] = y_binary\n",
    "        # If after step 1 label is 1 then determine Class 1 or 2 with step 2.\n",
    "        else:\n",
    "            y_pred_2_steps[ind] = k_predict(X_train_without_0.to_numpy(), y_train_without_0.to_numpy(), X_test.iloc[ind,:].to_numpy(), k=k_step_2)\n",
    "\n",
    "    \n",
    "    return y_pred_2_steps"
   ]
  },
  {
   "cell_type": "code",
   "execution_count": 248,
   "metadata": {},
   "outputs": [
    {
     "name": "stdout",
     "output_type": "stream",
     "text": [
      "MiAA: 0.65\n",
      "MiAP: 0.65\n",
      "MaAA: 0.7666666666666667\n",
      "MaAP: 0.7045454545454545\n"
     ]
    }
   ],
   "source": [
    "y_pred_2_steps = k_predict_2_steps(X_train, y_train, X_test, k_step_1=15, k_step_2=1)\n",
    "\n",
    "print('MiAA:', k_MiAA(y_pred_2_steps, y_test.to_numpy()))\n",
    "print('MiAP:', k_MiAP(y_pred_2_steps, y_test.to_numpy()))\n",
    "print('MaAA:', k_MaAA(y_pred_2_steps, y_test.to_numpy()))\n",
    "print('MaAP:', k_MaAP(y_pred_2_steps, y_test.to_numpy()))"
   ]
  },
  {
   "cell_type": "markdown",
   "metadata": {},
   "source": [
    "**Analysis:** Here again the results are not optimal. This might suggest a defect of the model’s ability to discriminate cancer diagnoses (classes 1 and 2). Other models may have better performance on the dataset. Nevertheless, kNN is a simple model, effortless to implement which can have here 'reasonnable' results."
   ]
  },
  {
   "cell_type": "markdown",
   "metadata": {
    "id": "X6Zz2bcMP6Wk"
   },
   "source": [
    "\n",
    "\n",
    "---\n",
    "\n"
   ]
  },
  {
   "cell_type": "markdown",
   "metadata": {
    "id": "J0K6bbpHPUYE"
   },
   "source": [
    "<a name=\"task-22\"></a>\n",
    "\n",
    "## (2.2) Logistic regression vs kernel logistic regression [(index)](#index-task-22)"
   ]
  },
  {
   "cell_type": "markdown",
   "metadata": {},
   "source": [
    "Just to make sure we use the original data."
   ]
  },
  {
   "cell_type": "code",
   "execution_count": 249,
   "metadata": {},
   "outputs": [],
   "source": [
    "# We seperate the training features into X_train (by extracting all columns except the first 'Patient ID' and last ones 'Class')\n",
    "# and y_train which corresponds to the column 'Class' (last column): our targets.\n",
    "X_train = data_train_T2.iloc[:,1:-1]\n",
    "y_train = data_train_T2.iloc[:,-1] #We keep the column 'Class' of the data as our targets\n",
    "\n",
    "# Similarly for the test set\n",
    "X_test = data_test_T2.iloc[:,1:-1]\n",
    "y_test = data_test_T2.iloc[:,-1] #We keep the column 'Class' of the data as our targets"
   ]
  },
  {
   "cell_type": "markdown",
   "metadata": {},
   "source": [
    "We standardise the data, as without standardising we obtain errors when computing the loss function (_'log of 0'_)."
   ]
  },
  {
   "cell_type": "code",
   "execution_count": 250,
   "metadata": {},
   "outputs": [],
   "source": [
    "# Standardise train and test data\n",
    "X_test = standardise(X_test, X_train_=X_train)\n",
    "X_train = standardise(X_train)"
   ]
  },
  {
   "cell_type": "markdown",
   "metadata": {},
   "source": [
    "We reformulate the previous classification task as a binary classification task by combining classes 1 and 2: 'benign tumour diagnosis' (class 0) and 'malignant tumour diagnosis' (classes 1 and 2 combined with `to_binary_class()`)."
   ]
  },
  {
   "cell_type": "code",
   "execution_count": 251,
   "metadata": {},
   "outputs": [],
   "source": [
    "def to_binary_class(y):\n",
    "    y_return = y.copy() # Copy to make sure we do not change the original data\n",
    "    y_return[y_return == 2] = 1 # Combine Classes 1 and 2.\n",
    "    return y_return"
   ]
  },
  {
   "cell_type": "code",
   "execution_count": 252,
   "metadata": {},
   "outputs": [],
   "source": [
    "y_train_binary = to_binary_class(y_train)\n",
    "y_test_binary = to_binary_class(y_test)"
   ]
  },
  {
   "cell_type": "markdown",
   "metadata": {
    "id": "4pVdpUHZP-oE"
   },
   "source": [
    "<a name=\"task-221\"></a>\n",
    "\n",
    "### (2.2.1) [(index)](#index-task-221)"
   ]
  },
  {
   "cell_type": "markdown",
   "metadata": {},
   "source": [
    "First of all, we define the logistic function."
   ]
  },
  {
   "cell_type": "code",
   "execution_count": 253,
   "metadata": {},
   "outputs": [],
   "source": [
    "def logistic(z):\n",
    "    return 1. / (1. + np.exp(-z))"
   ]
  },
  {
   "cell_type": "markdown",
   "metadata": {},
   "source": [
    "In the following cell, we implement our $h_{\\boldsymbol \\beta,\\beta_0}(\\boldsymbol X)$. In our implementation, $\\boldsymbol X$ has been extended with 1s such that $\\beta_0$ is contained in our variable $\\boldsymbol \\beta$."
   ]
  },
  {
   "cell_type": "code",
   "execution_count": 254,
   "metadata": {},
   "outputs": [],
   "source": [
    "def predict_log(X, beta):\n",
    "    y_log = logistic(X @ beta)\n",
    "    return y_log.squeeze()"
   ]
  },
  {
   "cell_type": "markdown",
   "metadata": {},
   "source": [
    "For this binary classification task, we aim to train a penalised logistic regression model specified by the following loss function:\n",
    "\n",
    "$$\n",
    "E(L) = - \\frac{1}{N}\\sum_{i=1}^N y^{(i)} \\log h_{\\boldsymbol \\beta,\\beta_0}(\\boldsymbol x^{(i)}) + (1-y^{(i)}) \\log (1-h_{\\boldsymbol \\beta,\\beta_0}(\\boldsymbol x^{(i)})) + \\frac{\\lambda}{2}||\\boldsymbol \\beta||^2  \n",
    "$$\n",
    "Which has as gradient\n",
    "$$\n",
    "\\nabla_{\\beta_0,\\boldsymbol \\beta} E(L) = \\frac{1}{N}\\sum_{i=1}^N (h_{\\boldsymbol \\beta,\\beta_0}(\\boldsymbol x^{(i)}) - y^{(i)})\\boldsymbol x^{(i)} + \\lambda \\boldsymbol \\beta\n",
    "$$\n",
    "\n",
    "where the term containing the hyperparameter $\\lambda$ is a Ridge-like penalty term on the magnitude of $\\boldsymbol \\beta$ (it does not include the intercept).\n",
    "\n",
    "In the following function `propagate()`, we implement the loss function and its gradient."
   ]
  },
  {
   "cell_type": "code",
   "execution_count": 255,
   "metadata": {},
   "outputs": [],
   "source": [
    "def propagate(X_aug, y, beta, penalty):\n",
    "    \"\"\"\n",
    "    Args:\n",
    "        X_aug (np.ndarray): matrix of training inputs (N, p+1).\n",
    "        y (np.ndarray): vector of training targets/observations (N, 1).\n",
    "        beta (np.ndarray): Parameter vector of size p+1.\n",
    "        penalty (float).\n",
    "    Returns:\n",
    "        grads: Dictionary containing dbeta, the gradient of the loss with respect to beta.\n",
    "        loss (float): Loss value.\n",
    "    \"\"\"\n",
    "    \n",
    "    beta_penalty = beta.copy()\n",
    "    beta_penalty[0] = 0 # No intercept in penalty term\n",
    "    \n",
    "    y_log = predict_log(X_aug, beta)\n",
    "    \n",
    "    # Mean sample loss function\n",
    "    loss = - np.mean(y * np.log(y_log) + (1 - y) * np.log(1 - y_log)) + 0.5 * penalty * np.linalg.norm(beta_penalty)**2\n",
    "\n",
    "    # Derivatives\n",
    "    dbeta = (np.mean(X_aug.T * (y_log - y), axis=1)).reshape(-1, 1) + penalty * beta_penalty\n",
    "    \n",
    "    loss = np.squeeze(loss)\n",
    "  \n",
    "    # Store gradients in a dictionary\n",
    "    grads = {'dbeta': dbeta}\n",
    "  \n",
    "    return grads, loss"
   ]
  },
  {
   "cell_type": "markdown",
   "metadata": {},
   "source": [
    "We can now conduct the actual optimisation and update the ($\\beta_0,\\boldsymbol \\beta$) with a learning rate which we set to $0.1$. We implement the gradient descent method:\n",
    "\n",
    "$$\n",
    "(\\beta_0,\\boldsymbol \\beta) := (\\beta_0,\\boldsymbol \\beta) - \\alpha \\nabla_{\\beta_0,\\boldsymbol \\beta}  E(L)\n",
    "$$"
   ]
  },
  {
   "cell_type": "code",
   "execution_count": 256,
   "metadata": {},
   "outputs": [],
   "source": [
    "def optimise(X_aug, y, beta, penalty, num_iterations=1000, learning_rate=0.1, print_loss=False):\n",
    "    \"\"\"\n",
    "    Args:\n",
    "        X_aug (np.ndarray): matrix of training inputs (N, p+1).\n",
    "        y (np.ndarray): vector of training targets/observations (N, 1).\n",
    "        beta (np.ndarray): Parameter vector of size p+1.\n",
    "        penalty (float).\n",
    "        num_iterations (int): Number of iterations.\n",
    "        learning_rate (float): Step size in updating procedure.\n",
    "        print_loss (bool): 'True' to print the loss every 100 iterations.\n",
    "    Returns:\n",
    "        params: Dictionary containing the parameter vector beta.\n",
    "        grads: Dictionary containing the gradient.\n",
    "        loss_history: List of all the loss values computed during the optimisation.\n",
    "    \"\"\"\n",
    "    \n",
    "    loss_history = []\n",
    "    \n",
    "    for i in range(num_iterations):\n",
    "\n",
    "        # Calculating the loss and gradients\n",
    "        grads, loss = propagate(X_aug, y, beta, penalty)\n",
    "      \n",
    "        # Retrieving derivatives from grads\n",
    "        dbeta = grads['dbeta']\n",
    "      \n",
    "        # Updating procedure\n",
    "        beta = beta - learning_rate * dbeta\n",
    "        \n",
    "        # Record the loss values\n",
    "        if i % 100 == 0:\n",
    "            loss_history.append(loss)\n",
    "      \n",
    "        # Printing the loss every 100 iterations\n",
    "        if print_loss and i % 100 == 0:\n",
    "            print ('Mean loss after iteration %i: %f' %(i, loss))\n",
    "  \n",
    "    # Saving parameters and gradients in dictionary\n",
    "    params = {'beta': beta}\n",
    "    grads = {'dbeta': dbeta}\n",
    "  \n",
    "    return params, grads, loss_history"
   ]
  },
  {
   "cell_type": "markdown",
   "metadata": {},
   "source": [
    "Having calculated the parameters for our training set, we can predict the labels for the test set."
   ]
  },
  {
   "cell_type": "code",
   "execution_count": 257,
   "metadata": {},
   "outputs": [],
   "source": [
    "def predict_logistic(X_test_aug, beta):\n",
    "    \"\"\"\n",
    "    Args:\n",
    "        X_test_aug (np.ndarray): matrix of testing inputs (N_test, p+1).\n",
    "        beta (np.ndarray): Parameter vector of size p+1.\n",
    "    Returns:\n",
    "        y_pred (np.ndarray): Vector containing all binary predictions (0/1) for X_test.\n",
    "    \"\"\"\n",
    "\n",
    "    N_test = X_test_aug.shape[0]\n",
    "    y_pred = np.zeros((N_test, 1))\n",
    "    beta = beta.reshape(X_test_aug.shape[1], 1)\n",
    "  \n",
    "    # Predicting the probabilities\n",
    "    y_log = predict_log(X_test_aug, beta)\n",
    "  \n",
    "    y_pred = y_log.round().reshape(1, -1)\n",
    "    \n",
    "    return y_pred"
   ]
  },
  {
   "cell_type": "markdown",
   "metadata": {},
   "source": [
    "We finally define `model()` in which we place all the functions we have defined. It has all the needed hyperparameters as arguments."
   ]
  },
  {
   "cell_type": "code",
   "execution_count": 258,
   "metadata": {},
   "outputs": [],
   "source": [
    "def model(X_train, y_train, X_test, y_test, penalty, num_iterations=2000, learning_rate=0.1, print_loss=False):\n",
    "    \"\"\"\n",
    "    Args:\n",
    "        X_train (np.ndarray): matrix of training inputs (N, p).\n",
    "        y_train (np.ndarray): vector of training targets/observations (N, 1).\n",
    "        X_test (np.ndarray): matrix of testing inputs (N_test, p).\n",
    "        y_test (np.ndarray): vector of testing targets/observations (N_test, 1).\n",
    "        penalty (float).\n",
    "        num_iterations (int): Number of iterations.\n",
    "        learning_rate (float): Step size in updating procedure.\n",
    "        print_loss (bool): 'True' to print the loss every 100 iterations.\n",
    "    Returns:\n",
    "        d: Logistic regression model.\n",
    "    \"\"\"\n",
    "    \n",
    "    # Extend X_train and X_test for intercept\n",
    "    X_train_aug = np.hstack((np.ones((len(X_train),1)), X_train))\n",
    "    X_test_aug = np.hstack((np.ones((len(X_test),1)), X_test))\n",
    "    \n",
    "    # Initialising parameters with zeros (with intercept at index 0)\n",
    "    beta = np.zeros((X_train_aug.shape[1],1))\n",
    "    \n",
    "    # Gradient descent\n",
    "    parameters, grads, loss_history = optimise(X_train_aug, y_train, beta, penalty, num_iterations, learning_rate, print_loss=print_loss)\n",
    "\n",
    "    # Retrieving parameter vector beta from dictionary 'parameters'\n",
    "    beta = parameters['beta']\n",
    "    \n",
    "    # Predicting test and training set examples\n",
    "    y_pred_train = predict_logistic(X_train_aug, beta)\n",
    "    y_pred_test = predict_logistic(X_test_aug, beta)\n",
    "\n",
    "    # Printing train/test accuracy\n",
    "    print('\\nTraining accuracy: {} %'.format(100 - np.mean(np.abs(y_pred_train - y_train)) * 100))\n",
    "    print('Test accuracy: {} %'.format(100 - np.mean(np.abs(y_pred_test - y_test)) * 100))\n",
    "\n",
    "    # Saving all the information\n",
    "    d = {'mean_loss_history': loss_history, 'y_pred_test': y_pred_test, 'y_pred_train': y_pred_train, 'beta': beta, 'learning_rate': learning_rate, 'num_iterations': num_iterations}\n",
    "  \n",
    "    return d"
   ]
  },
  {
   "cell_type": "markdown",
   "metadata": {},
   "source": [
    "We train our penalised logistic regression model _d_."
   ]
  },
  {
   "cell_type": "code",
   "execution_count": 259,
   "metadata": {},
   "outputs": [
    {
     "name": "stdout",
     "output_type": "stream",
     "text": [
      "Mean loss after iteration 0: 0.693147\n",
      "Mean loss after iteration 100: 0.544315\n",
      "Mean loss after iteration 200: 0.533558\n",
      "Mean loss after iteration 300: 0.530230\n",
      "Mean loss after iteration 400: 0.528606\n",
      "Mean loss after iteration 500: 0.527568\n",
      "Mean loss after iteration 600: 0.526783\n",
      "Mean loss after iteration 700: 0.526133\n",
      "Mean loss after iteration 800: 0.525570\n",
      "Mean loss after iteration 900: 0.525072\n",
      "Mean loss after iteration 1000: 0.524628\n",
      "Mean loss after iteration 1100: 0.524233\n",
      "Mean loss after iteration 1200: 0.523882\n",
      "Mean loss after iteration 1300: 0.523573\n",
      "Mean loss after iteration 1400: 0.523304\n",
      "Mean loss after iteration 1500: 0.523072\n",
      "Mean loss after iteration 1600: 0.522875\n",
      "Mean loss after iteration 1700: 0.522709\n",
      "Mean loss after iteration 1800: 0.522572\n",
      "Mean loss after iteration 1900: 0.522460\n",
      "\n",
      "Training accuracy: 77.93103448275862 %\n",
      "Test accuracy: 83.33333333333334 %\n"
     ]
    }
   ],
   "source": [
    "d = model(X_train.to_numpy(), y_train_binary.to_numpy(), X_test.to_numpy(), y_test_binary.to_numpy(), penalty=0.0025, num_iterations=2000, learning_rate=0.1, print_loss=True)"
   ]
  },
  {
   "cell_type": "markdown",
   "metadata": {},
   "source": [
    "**Analysis**: The model presents a good accuracy of $78$% on the training set, with an even better accuracy on the test set $83$%; the model seems to generalise well to unseen data."
   ]
  },
  {
   "cell_type": "markdown",
   "metadata": {},
   "source": [
    "We evaluate its performance on the test set via the Precision-Recall curve and the area under this curve (AUC-PR)."
   ]
  },
  {
   "cell_type": "code",
   "execution_count": 260,
   "metadata": {},
   "outputs": [],
   "source": [
    "def pr_curve(y_true, y_log):\n",
    "    \"\"\"\n",
    "    Args:\n",
    "        y_true (np.ndarray): Ground truth labels (N, 1).\n",
    "        y_log (np.ndarray): Probabilities produced by logistic regression model (N, 1).\n",
    "    Returns:\n",
    "        auc: Area Under the Curve (AUC).\n",
    "        pres_l: List of precision values for each scanned threshold.\n",
    "        recall_l: List of recall values for each scanned threshold.\n",
    "        thresholds: Scanned thresholds sorted in decreasing order.\n",
    "    \"\"\"\n",
    "    \n",
    "    # List of distinct values in y_log, sorted sorted in decreasing order\n",
    "    thresholds = reversed(sorted(set(y_log)))\n",
    "    pres_l, recall_l = [], []\n",
    "\n",
    "    for threshold in thresholds:\n",
    "        # Thresholding\n",
    "        y_thresholded = (y_log >= threshold)\n",
    "\n",
    "        # True positives\n",
    "        tp = np.sum(y_true & y_thresholded)\n",
    "        # False positives\n",
    "        fp = np.sum((~y_true) & y_thresholded)\n",
    "        # False negatives\n",
    "        fn = np.sum(y_true & (~y_thresholded))\n",
    "\n",
    "        pres = tp / (tp + fp)\n",
    "        recall = tp / (tp + fn)\n",
    "        pres_l.append(pres)\n",
    "        recall_l.append(recall)\n",
    "\n",
    "    # Compute AUC using Trapezoidal rule\n",
    "    auc = np.trapz(pres_l, recall_l)\n",
    "    return auc, pres_l, recall_l, thresholds"
   ]
  },
  {
   "cell_type": "code",
   "execution_count": 261,
   "metadata": {},
   "outputs": [
    {
     "data": {
      "image/png": "[encoded data removed]",
      "text/plain": [
       "<Figure size 1200x800 with 1 Axes>"
      ]
     },
     "metadata": {},
     "output_type": "display_data"
    }
   ],
   "source": [
    "X_test_aug = np.hstack((np.ones((len(X_test),1)), X_test))\n",
    "\n",
    "y_log = predict_log(X_test_aug, d['beta'])\n",
    "auc, pres, recall, th = pr_curve(y_test_binary, y_log)\n",
    "\n",
    "plt.figure(figsize=(12,8))\n",
    "plt.title(f'Presicion-Recall Curve')\n",
    "plt.plot(recall, pres, '.-', label=f'AUC = {auc:0.2f}')\n",
    "plt.axhline(y=0.5, linestyle='--', color='red', label='Naive classifier')\n",
    "plt.legend(loc='lower right')\n",
    "plt.xlim([0, 1])\n",
    "plt.ylim([0, 1])\n",
    "plt.ylabel('Precision')\n",
    "plt.xlabel('Recall')\n",
    "plt.grid()\n",
    "plt.show()"
   ]
  },
  {
   "cell_type": "markdown",
   "metadata": {},
   "source": [
    "**Analysis**: Using the Precision-Recall curve and the area under this curve (AUC-PR), we conclude that our model significantly outperforms the naive classifier (choosing class 0 or 1 with probability $\\frac{1}{2}$) with an AUC of $0.86$ compared to $0.5$ for the naive classifier. The AUC being close to $1$ underlines a good efficacy."
   ]
  },
  {
   "cell_type": "markdown",
   "metadata": {
    "id": "e_MkiUD4QB0k"
   },
   "source": [
    "## <a name=\"task-222\"></a>\n",
    "\n",
    "### (2.2.2) [(index)](#index-task-222)"
   ]
  },
  {
   "cell_type": "markdown",
   "metadata": {},
   "source": [
    "In the following, we implement a kernelised version of the previous penalised logistic regression model using the Laplacian kernel:\n",
    "$$k(x,y) = exp(-\\alpha||x-y||_1),\\quad\\alpha>0$$"
   ]
  },
  {
   "cell_type": "code",
   "execution_count": 262,
   "metadata": {},
   "outputs": [],
   "source": [
    "def kernel_matrix(X1, X2, alpha):\n",
    "    \"\"\"\n",
    "    Construct kernel matrix K.\n",
    "    Args:\n",
    "        X1 (np.ndarray): Size (n1, m1).\n",
    "        X2 (np.ndarray): Size (n2, m2).\n",
    "        alpha (float): Kernel’s parameter.\n",
    "    Return:\n",
    "        kernel (np.ndarray): Kernel matrix (n1, n2).\n",
    "    \"\"\"\n",
    "    \n",
    "    n1,m1 = X1.shape\n",
    "    n2,m2 = X2.shape\n",
    "    kernel = np.zeros((n1,n2))\n",
    "\n",
    "    for i in range(n1):\n",
    "        exponent = -alpha * np.linalg.norm(X2 - X1[i], axis=1, ord=1)\n",
    "        kernel[i,:] = np.exp(exponent)\n",
    "\n",
    "    return kernel"
   ]
  },
  {
   "cell_type": "code",
   "execution_count": 263,
   "metadata": {},
   "outputs": [],
   "source": [
    "def predict_kernel_log(K, u, intercept):\n",
    "    y_log = logistic(K @ u + intercept)\n",
    "    return y_log.squeeze()"
   ]
  },
  {
   "cell_type": "markdown",
   "metadata": {},
   "source": [
    "The kernel version of the logistic regression model can be implemented by defining a new loss function:\n",
    "\n",
    "$$L(\\mathbf{u},b) = -\\frac{1}{N}\\sum_{i=1}^N y^{(i)} \\log h_{\\boldsymbol u,b}^k(\\boldsymbol K^{(i)}) + (1-y^{(i)}) \\log (1-h_{\\boldsymbol u,b}^k(\\boldsymbol K^{(i)})) + \\frac{\\lambda}{2}\\boldsymbol u^T\\boldsymbol K\\boldsymbol u  ,$$\n",
    "\n",
    "and its gradients:\n",
    "\n",
    "$$\n",
    "\\nabla_{u} L(\\mathbf{u},b) = \\frac{1}{N}\\sum_{i=1}^N (h_{\\boldsymbol u,b}^k(\\boldsymbol K^{(i)}) - y^{(i)})\\boldsymbol K^{(i)} + \\lambda \\boldsymbol K\\boldsymbol u\n",
    "$$\n",
    "\n",
    "$$\n",
    "\\frac{\\partial L(\\mathbf{u},b)}{\\partial b} = \\frac{1}{N}\\sum_{i=1}^N (h_{\\boldsymbol u,b}^k(\\boldsymbol K^{(i)}) - y^{(i)})\\boldsymbol K^{(i)}\n",
    "$$\n",
    "\n",
    "\n",
    "where $\\mathbf{K}$ is the matrix containing the kernel functions, i.e.\n",
    " $\\mathbf{K}_{ij} = k(\\mathbf{x}^{(i)},\\mathbf{x}^{(i)})$ and:\n",
    " \n",
    "$$\n",
    "h_{\\boldsymbol u,b}^k(\\boldsymbol K^{(i)}) = \\frac{1}{1+e^{-(\\boldsymbol K^{(i)}\\boldsymbol u + b)}}.\n",
    "$$\n",
    "\n",
    "To perform the optimisation, we simply modify the functions introduced above."
   ]
  },
  {
   "cell_type": "code",
   "execution_count": 264,
   "metadata": {},
   "outputs": [],
   "source": [
    "def propagate_kernel(K, u, y, intercept, penalty):\n",
    "    \"\"\"\n",
    "    Args:\n",
    "        K (np.ndarray): Kernel matrix (n1, n2).\n",
    "        u (np.ndarray): Parameter vector of size (n2, 1).\n",
    "        y (np.ndarray): True label vector of size N.\n",
    "        intercept (float).\n",
    "        penalty (float).\n",
    "    Returns:\n",
    "        loss: Loss value.\n",
    "        dbeta: Gradient of the loss with respect to beta.\n",
    "        dintercept: Derivative of the loss with respect to the intercept.\n",
    "    \"\"\"\n",
    "    \n",
    "    y_kernel_log = predict_kernel_log(K, u, intercept)\n",
    "\n",
    "    # Mean sample loss function\n",
    "    loss = - np.mean(y * np.log(y_kernel_log) + (1 - y) * np.log(1 - y_kernel_log)) + 0.5 * penalty * np.dot(u,K@u)\n",
    "\n",
    "    # Derivatives\n",
    "    du = (np.mean(K.T * (y_kernel_log - y), axis=1) + penalty * (K@u)).reshape(-1, 1)\n",
    "    dintercept = - np.mean(y * (1 - y_kernel_log) - (1 - y) * y_kernel_log)\n",
    "    \n",
    "    loss = np.squeeze(loss)\n",
    "    du = np.squeeze(du)\n",
    "    \n",
    "    # Store gradients in a dictionary\n",
    "    grads = {'du': du, 'dintercept': dintercept}\n",
    "  \n",
    "    return grads, loss"
   ]
  },
  {
   "cell_type": "code",
   "execution_count": 265,
   "metadata": {},
   "outputs": [],
   "source": [
    "def kernel_optimise(K, u, y, intercept, penalty, num_iterations=2000, learning_rate=0.1, print_loss=False):\n",
    "    \"\"\"\n",
    "    Args:\n",
    "        K (np.ndarray): Kernel matrix (n1, n2).\n",
    "        u (np.ndarray): Parameter vector of size (n2, 1).\n",
    "        y (np.ndarray): vector of training targets/observations (n1, 1).\n",
    "        intercept (float).\n",
    "        penalty (float).\n",
    "        num_iterations: Number of iterations.\n",
    "        learning_rate: Step size in updating procedure.\n",
    "        print_loss: 'True' to print the mean loss every 100 iterations.\n",
    "    Returns:\n",
    "        params: Dictionary containing the parameter vector beta.\n",
    "        grads: Dictionary containing the gradient.\n",
    "        loss_history: List of all the loss values computed during the optimisation.\n",
    "    \"\"\"\n",
    "    \n",
    "    loss_history = []\n",
    "    \n",
    "    for i in range(num_iterations):\n",
    "\n",
    "        # Calculating the loss and gradients\n",
    "        grads, loss = propagate_kernel(K, u, y, intercept, penalty)\n",
    "      \n",
    "        # Retrieving derivatives from grads\n",
    "        du = grads['du']\n",
    "        dintercept = grads['dintercept']\n",
    "        \n",
    "        # Updating procedure\n",
    "        u = u - learning_rate * du\n",
    "        intercept = intercept - learning_rate * dintercept\n",
    "        \n",
    "        # Record the loss values\n",
    "        if i % 100 == 0:\n",
    "            loss_history.append(loss)\n",
    "      \n",
    "        # Printing the loss every 100 iterations\n",
    "        if print_loss and i % 100 == 0:\n",
    "            print ('Loss after iteration %i: %f' %(i, loss))\n",
    "  \n",
    "    # Saving parameters and gradients in dictionary\n",
    "    params = {'u': u, 'intercept': intercept}\n",
    "    grads = {'du': du, 'dintercept': dintercept}\n",
    "  \n",
    "    return params, grads, loss_history"
   ]
  },
  {
   "cell_type": "code",
   "execution_count": 266,
   "metadata": {},
   "outputs": [],
   "source": [
    "def predict_kernel(K, u, intercept):\n",
    "    \"\"\"\n",
    "    Args:\n",
    "        K (np.ndarray): Kernel matrix.\n",
    "        u (np.ndarray): Parameter vector.\n",
    "        intercept (float).\n",
    "    Return:\n",
    "        y_pred: Vector containing all binary predictions (0/1).\n",
    "    \"\"\"\n",
    "\n",
    "    # Predicting the probabilities\n",
    "    y_log = predict_kernel_log(K, u, intercept)\n",
    "    \n",
    "    y_pred = y_log.round().reshape(1, -1)\n",
    "    \n",
    "    return y_pred"
   ]
  },
  {
   "cell_type": "code",
   "execution_count": 267,
   "metadata": {},
   "outputs": [],
   "source": [
    "def kernel_model(X_train, y_train, X_test, y_test, alpha, penalty, num_iterations=2000, learning_rate=0.1, print_loss=False):\n",
    "    \"\"\"\n",
    "    Args:\n",
    "        X_train (np.ndarray): Matrix of training inputs (N, p).\n",
    "        y_train (np.ndarray): Vector of training targets/observations (N, 1).\n",
    "        X_test (np.ndarray): Matrix of testing inputs (N_test, p).\n",
    "        y_test (np.ndarray): Vector of testing targets/observations (N_test, 1).\n",
    "        alpha (float): Kernel's parameter.\n",
    "        penalty (float).\n",
    "        num_iterations: Number of iterations.\n",
    "        learning_rate: Step size in updating procedure.\n",
    "        print_loss: 'True' to print the mean loss every 100 iterations.\n",
    "    Returns:\n",
    "        d_kernel: Kernalised logistic regression model.\n",
    "    \"\"\"\n",
    "    \n",
    "    # Kernel matrices\n",
    "    K_train = kernel_matrix(X_train, X_train, alpha)\n",
    "    K_test = kernel_matrix(X_test, X_train, alpha)\n",
    "    \n",
    "    # Initialising parameters with zeros\n",
    "    u = np.zeros(K_train.shape[1])\n",
    "    intercept = 0.\n",
    "    \n",
    "    # Gradient descent\n",
    "    parameters, grads, loss_history = kernel_optimise(K_train, u, y_train, intercept, penalty, num_iterations=1000, learning_rate=0.1, print_loss=False)\n",
    "\n",
    "    # Retrieving parameter vector beta from dictionary 'parameters'\n",
    "    u = parameters['u']\n",
    "    intercept = parameters['intercept']\n",
    "    \n",
    "    # Predicting test and training set examples\n",
    "    y_pred_train = predict_kernel(K_train, u, intercept)\n",
    "    y_pred_test = predict_kernel(K_test, u, intercept)\n",
    "\n",
    "    # Printing train/test accuracy\n",
    "    print(f'For alpha = {alpha}:')\n",
    "    print('Training accuracy: {} %'.format(100 - np.mean(np.abs(y_pred_train - y_train)) * 100))\n",
    "    print('Test accuracy: {} % \\n'.format(100 - np.mean(np.abs(y_pred_test - y_test)) * 100))\n",
    "\n",
    "    # Saving all the information\n",
    "    d_kernel = {'mean_loss_history': loss_history, 'y_pred_test': y_pred_test, 'y_pred_train': y_pred_train, 'u': u, 'intercept': intercept, 'learning_rate': learning_rate, 'num_iterations': num_iterations}\n",
    "  \n",
    "    return d_kernel"
   ]
  },
  {
   "cell_type": "markdown",
   "metadata": {
    "id": "DzUYT08xQDV9"
   },
   "source": [
    "<a name=\"task-223\"></a>\n",
    "\n",
    "### (2.2.3) [(index)](#index-task-223)"
   ]
  },
  {
   "cell_type": "markdown",
   "metadata": {},
   "source": [
    "We train our kernelised version of the penalised logistic regression model for $\\alpha=100$ and $\\alpha=0.3$."
   ]
  },
  {
   "cell_type": "code",
   "execution_count": 268,
   "metadata": {},
   "outputs": [
    {
     "name": "stdout",
     "output_type": "stream",
     "text": [
      "For alpha = 100:\n",
      "Training accuracy: 68.9655172413793 %\n",
      "Test accuracy: 70.0 % \n",
      "\n",
      "For alpha = 0.3:\n",
      "Training accuracy: 86.20689655172414 %\n",
      "Test accuracy: 85.0 % \n",
      "\n"
     ]
    }
   ],
   "source": [
    "d_kernel_100 = kernel_model(X_train.to_numpy(), y_train_binary.to_numpy(), X_test.to_numpy(), y_test_binary.to_numpy(), alpha=100, penalty=0.0025, num_iterations=2000, learning_rate=0.1, print_loss=False)\n",
    "d_kernel_03 = kernel_model(X_train.to_numpy(), y_train_binary.to_numpy(), X_test.to_numpy(), y_test_binary.to_numpy(), alpha=0.3, penalty=0.0025, num_iterations=2000, learning_rate=0.1, print_loss=False)"
   ]
  },
  {
   "cell_type": "markdown",
   "metadata": {},
   "source": [
    "- For $\\alpha=100$: The accuracies on the train set $69$% and test set $70$% are better than the mean accuracy of a naive classifier (choosing class 0 or 1 with probability $\\frac{1}{2}$), however, they are inferior to those of the penalised logistic regression model.\n",
    "\n",
    "- For $\\alpha=0.3$: The model shows even higher accuracy on both train set $86$% and test set $85$%, it even outperforms the penalised logistic regression model.\n",
    "\n",
    "As seen above, the choice of $\\alpha$ is important for the accuracy of our model. "
   ]
  },
  {
   "cell_type": "markdown",
   "metadata": {},
   "source": [
    "We evaluate its performance on the test set via the Precision-Recall curve and the area under this curve (AUC-PR)."
   ]
  },
  {
   "cell_type": "code",
   "execution_count": 269,
   "metadata": {},
   "outputs": [],
   "source": [
    "def plot_roc(X_train, X_test, y_test, d_kernel, alpha):\n",
    "    \"\"\"\n",
    "    Args:\n",
    "        X_train (np.ndarray): Matrix of training inputs (N, p).\n",
    "        X_test (np.ndarray): Matrix of testing inputs (N_test, p).\n",
    "        y_test (np.ndarray): Vector of testing targets/observations (N_test, 1).\n",
    "        d_kernel: Kernelised logistic regression model.\n",
    "        alpha (float): Kernel's parameter.\n",
    "    \"\"\"\n",
    "    \n",
    "    K_test = kernel_matrix(X_test.to_numpy(), X_train.to_numpy(), alpha=alpha)\n",
    "\n",
    "    y_log = predict_kernel_log(K_test, d_kernel['u'], d_kernel['intercept'])\n",
    "    auc, pres, recall, th = pr_curve(y_test, y_log)\n",
    "\n",
    "    plt.figure(figsize=(12,8))\n",
    "    plt.title(f'Precision-Recall curve with alpha={alpha}')\n",
    "    plt.plot(recall, pres, '.-', label=f'AUC = {auc:0.2f}')\n",
    "    plt.axhline(y=0.5, linestyle='--', color='red', label='Naive classifier')\n",
    "    plt.legend(loc='lower right')\n",
    "    plt.xlim([0, 1])\n",
    "    plt.ylim([0, 1])\n",
    "    plt.ylabel('Precision')\n",
    "    plt.xlabel('Recall')\n",
    "    plt.grid()\n",
    "    plt.show()"
   ]
  },
  {
   "cell_type": "code",
   "execution_count": 270,
   "metadata": {},
   "outputs": [
    {
     "data": {
      "image/png": "[encoded data removed]",
      "text/plain": [
       "<Figure size 1200x800 with 1 Axes>"
      ]
     },
     "metadata": {},
     "output_type": "display_data"
    },
    {
     "data": {
      "image/png": "[encoded data removed]",
      "text/plain": [
       "<Figure size 1200x800 with 1 Axes>"
      ]
     },
     "metadata": {},
     "output_type": "display_data"
    }
   ],
   "source": [
    "plot_roc(X_train, X_test, y_test_binary, d_kernel_100, alpha=100)\n",
    "plot_roc(X_train, X_test, y_test_binary, d_kernel_03, alpha=0.3)"
   ]
  },
  {
   "cell_type": "markdown",
   "metadata": {},
   "source": [
    "**Analysis:** \n",
    "- For $\\alpha=100$, despite not surpassing the penalised logistic regression model with an AUC of $0.79$ compared to $0.86$, the model is still doing better than the naive classifier presenting reasonnable performance. \n",
    "\n",
    "- For $\\alpha=0.3$, as seen before, the model shows significant improvement compared to $\\alpha=100$, with an AUC of $0.90$. Its AUC being close to $1$ suggests that the model is highly efficient.\n",
    "\n",
    "Finally, the kernelised version with $\\alpha=0.3$ outperforms the penalised logistic regression model (**2.2.1**). In conclusion, among our three different models, it is the kernelised version with $\\alpha=0.3$ that performs the best. Additionally, as underlined before, the choice of the kernel's parameter $\\alpha$ has a significant impact on the accuracy of our kernelised version. Hence, choosing the optimal $\\alpha$ (e.g. by cross-validation) may lead to an even more accurate model."
   ]
  }
 ],
 "metadata": {
  "colab": {
   "provenance": [],
   "toc_visible": true
  },
  "kernelspec": {
   "display_name": "Python 3 (ipykernel)",
   "language": "python",
   "name": "python3"
  },
  "language_info": {
   "codemirror_mode": {
    "name": "ipython",
    "version": 3
   },
   "file_extension": ".py",
   "mimetype": "text/x-python",
   "name": "python",
   "nbconvert_exporter": "python",
   "pygments_lexer": "ipython3",
   "version": "3.11.5"
  }
 },
 "nbformat": 4,
 "nbformat_minor": 4
}
